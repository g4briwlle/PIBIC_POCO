{
 "cells": [
  {
   "cell_type": "code",
   "execution_count": 2,
   "id": "ad623012",
   "metadata": {},
   "outputs": [
    {
     "name": "stderr",
     "output_type": "stream",
     "text": [
      "c:\\PIBIC POCO\\venv\\Lib\\site-packages\\tslearn\\bases\\bases.py:15: UserWarning: h5py not installed, hdf5 features will not be supported.\n",
      "Install h5py to use hdf5 features: http://docs.h5py.org/\n",
      "  warn(h5py_msg)\n"
     ]
    }
   ],
   "source": [
    "\"\"\" Módulo do cálculo do fast DTW\n",
    "03\n",
    "\n",
    "\"\"\"\n",
    "\n",
    "import time\n",
    "from tqdm import tqdm\n",
    "from fastdtw import fastdtw\n",
    "from scipy.spatial.distance import euclidean\n",
    "from tslearn.metrics import cdist_dtw\n",
    "from sklearn.cluster import DBSCAN\n",
    "import pandas as pd\n",
    "import numpy as np\n",
    "import reading_data"
   ]
  },
  {
   "cell_type": "code",
   "execution_count": 3,
   "id": "3ef8d073",
   "metadata": {},
   "outputs": [],
   "source": [
    "# Getting whole data, 4500 emps\n",
    "df_time_s_entrada = pd.read_csv(reading_data.df_time_s_entrada)\n",
    "df_time_s_entrada[\"Empresa\"] = df_time_s_entrada[\"Empresa\"].astype(str)\n",
    "\n",
    "segundo_df_time_s_entrada = pd.read_csv(reading_data.segundo_df_time_s_entrada)\n",
    "segundo_df_time_s_entrada[\"Empresa\"] = segundo_df_time_s_entrada[\"Empresa\"].astype(str)"
   ]
  },
  {
   "cell_type": "code",
   "execution_count": 4,
   "id": "91a8d7b4",
   "metadata": {},
   "outputs": [],
   "source": [
    "# Usando o df de emps que trocaram de nome ao longo dos 11 anos (55 emps)\n",
    "df_hist_cambios = pd.read_csv(reading_data.historial_cambios_me_epp_solo)\n",
    "emps_suspicious = df_hist_cambios[[\"CPF_CNPJ_Rem\"]].rename(columns = {\"CPF_CNPJ_Rem\": \"Empresa\"}).astype(str)\n",
    "\n",
    "df_cambios = segundo_df_time_s_entrada[segundo_df_time_s_entrada['Empresa'].isin(emps_suspicious['Empresa'])]\n",
    "# df_cambios   52 rows × 366 columns"
   ]
  },
  {
   "cell_type": "code",
   "execution_count": 5,
   "id": "67b1acf7",
   "metadata": {},
   "outputs": [],
   "source": [
    "# 100 samples\n",
    "df_100_samples = segundo_df_time_s_entrada[:100]\n",
    "\n",
    "# 300\n",
    "df_300_samples = segundo_df_time_s_entrada[:300]\n",
    "\n",
    "# 500\n",
    "df_500_samples = segundo_df_time_s_entrada[:500]\n",
    "\n",
    "df_800_samples = segundo_df_time_s_entrada[:800]\n",
    "\n",
    "df_1000_samples= segundo_df_time_s_entrada[:1000]\n",
    "\n",
    "df_1500_samples= segundo_df_time_s_entrada[:1500]"
   ]
  },
  {
   "cell_type": "code",
   "execution_count": 10,
   "id": "45b31baa",
   "metadata": {},
   "outputs": [],
   "source": [
    "def calculate_dtw(time_series_passed: pd.DataFrame, n_jobs=1):\n",
    "    \"\"\"Calcula a matriz de distância DTW entre séries temporais.\n",
    "    \n",
    "    Parameters\n",
    "    ----------\n",
    "    time_series_passed : pd.DataFrame\n",
    "        DataFrame com séries temporais onde cada linha é uma série\n",
    "        \n",
    "    Returns\n",
    "    -------\n",
    "    numpy.ndarray\n",
    "        Matriz de distância DTW entre todas as séries\n",
    "    \"\"\"\n",
    "\n",
    "    print(f\"Iniciando cálculo da matriz de distância DTW para {time_series_passed.shape[0]} séries temporais...\")\n",
    "    tempo_inicio = time.time()\n",
    "    \n",
    "    # calculating cross similarity matrix com barra de progresso\n",
    "    print(\"Calculando matriz de distância DTW (pode levar algum tempo)...\")\n",
    "    tempo_calculo = time.time()\n",
    "    distance_matrix = cdist_dtw(time_series_passed, n_jobs=n_jobs)\n",
    "    tempo_fim = time.time()\n",
    "    \n",
    "    print(f\"Matriz de distância calculada em {tempo_fim - tempo_calculo:.2f} segundos\")\n",
    "    print(f\"Tempo total da função calculate_dtw: {tempo_fim - tempo_inicio:.2f} segundos\")\n",
    "    \n",
    "    # Informações sobre a matriz gerada\n",
    "    print(f\"Dimensões da matriz de distância: {distance_matrix.shape}\")\n",
    "    print(f\"Média das distâncias: {np.mean(distance_matrix):.2f}\")\n",
    "    print(f\"Distância mínima (excluindo diagonais): {np.min(distance_matrix + np.eye(len(distance_matrix)) * np.max(distance_matrix)):.2f}\")\n",
    "    print(f\"Distância máxima: {np.max(distance_matrix):.2f}\")\n",
    "    \n",
    "    return distance_matrix\n"
   ]
  },
  {
   "cell_type": "code",
   "execution_count": 32,
   "id": "ee8639f4",
   "metadata": {},
   "outputs": [
    {
     "name": "stdout",
     "output_type": "stream",
     "text": [
      "Iniciando cálculo da matriz de distância DTW para 52 séries temporais...\n",
      "Calculando matriz de distância DTW (pode levar algum tempo)...\n",
      "Matriz de distância calculada em 2.06 segundos\n",
      "Tempo total da função calculate_dtw: 2.06 segundos\n",
      "Dimensões da matriz de distância: (52, 52)\n",
      "Média das distâncias: 9997407208585.14\n",
      "Distância mínima (excluindo diagonais): 1300999998.00\n",
      "Distância máxima: 85053928999991.00\n",
      "[[0.0000000e+00 8.0908400e+11 2.2508340e+12 ... 2.4190492e+13\n",
      "  3.7275896e+13 8.5053929e+13]\n",
      " [8.0908400e+11 0.0000000e+00 1.4417500e+12 ... 2.3381408e+13\n",
      "  3.6466812e+13 8.4244845e+13]\n",
      " [2.2508340e+12 1.4417500e+12 0.0000000e+00 ... 2.1939658e+13\n",
      "  3.5025062e+13 8.2803095e+13]\n",
      " ...\n",
      " [2.4190492e+13 2.3381408e+13 2.1939658e+13 ... 0.0000000e+00\n",
      "  1.3085404e+13 6.0863437e+13]\n",
      " [3.7275896e+13 3.6466812e+13 3.5025062e+13 ... 1.3085404e+13\n",
      "  0.0000000e+00 4.7778033e+13]\n",
      " [8.5053929e+13 8.4244845e+13 8.2803095e+13 ... 6.0863437e+13\n",
      "  4.7778033e+13 0.0000000e+00]]\n"
     ]
    }
   ],
   "source": [
    "distance_matrix_cambios = calculate_dtw(df_cambios)\n",
    "print(distance_matrix_cambios)"
   ]
  },
  {
   "cell_type": "code",
   "execution_count": 5,
   "id": "567e3957",
   "metadata": {},
   "outputs": [
    {
     "name": "stdout",
     "output_type": "stream",
     "text": [
      "Iniciando cálculo da matriz de distância DTW para 100 séries temporais...\n",
      "Convertendo dados para formato adequado: 0.00 segundos\n",
      "Calculando matriz de distância DTW (pode levar algum tempo)...\n",
      "Matriz de distância calculada em 10.12 segundos\n",
      "Tempo total da função calculate_dtw: 10.12 segundos\n",
      "Dimensões da matriz de distância: (100, 100)\n",
      "Média das distâncias: 14469597962.59\n",
      "Distância mínima (excluindo diagonais): 931012.00\n",
      "Distância máxima: 41755021083.00\n"
     ]
    },
    {
     "data": {
      "text/plain": [
       "array([[0.00000000e+00, 9.31012000e+05, 4.04064019e+08, ...,\n",
       "        4.06400501e+10, 4.16903121e+10, 4.17550211e+10],\n",
       "       [9.31012000e+05, 0.00000000e+00, 4.03133007e+08, ...,\n",
       "        4.06391191e+10, 4.16893811e+10, 4.17540901e+10],\n",
       "       [4.04064019e+08, 4.03133007e+08, 0.00000000e+00, ...,\n",
       "        4.02359860e+10, 4.12862481e+10, 4.13509571e+10],\n",
       "       ...,\n",
       "       [4.06400501e+10, 4.06391191e+10, 4.02359860e+10, ...,\n",
       "        0.00000000e+00, 1.05026204e+09, 1.11497102e+09],\n",
       "       [4.16903121e+10, 4.16893811e+10, 4.12862481e+10, ...,\n",
       "        1.05026204e+09, 0.00000000e+00, 6.47089810e+07],\n",
       "       [4.17550211e+10, 4.17540901e+10, 4.13509571e+10, ...,\n",
       "        1.11497102e+09, 6.47089810e+07, 0.00000000e+00]])"
      ]
     },
     "execution_count": 5,
     "metadata": {},
     "output_type": "execute_result"
    }
   ],
   "source": [
    "distance_matrix1 = calculate_dtw(df_100_samples)\n",
    "distance_matrix1"
   ]
  },
  {
   "cell_type": "code",
   "execution_count": 6,
   "id": "5fae1213",
   "metadata": {},
   "outputs": [
    {
     "name": "stdout",
     "output_type": "stream",
     "text": [
      "Iniciando cálculo da matriz de distância DTW para 300 séries temporais...\n",
      "Convertendo dados para formato adequado: 0.01 segundos\n",
      "Calculando matriz de distância DTW (pode levar algum tempo)...\n",
      "Matriz de distância calculada em 74.18 segundos\n",
      "Tempo total da função calculate_dtw: 74.19 segundos\n",
      "Dimensões da matriz de distância: (300, 300)\n",
      "Média das distâncias: 286744923723.99\n",
      "Distância mínima (excluindo diagonais): 81.00\n",
      "Distância máxima: 934519830994.00\n"
     ]
    },
    {
     "data": {
      "text/plain": [
       "array([[0.00000000e+00, 9.31012000e+05, 4.04064019e+08, ...,\n",
       "        9.22816831e+11, 9.24202831e+11, 9.34519831e+11],\n",
       "       [9.31012000e+05, 0.00000000e+00, 4.03133007e+08, ...,\n",
       "        9.22815900e+11, 9.24201900e+11, 9.34518900e+11],\n",
       "       [4.04064019e+08, 4.03133007e+08, 0.00000000e+00, ...,\n",
       "        9.22412767e+11, 9.23798767e+11, 9.34115767e+11],\n",
       "       ...,\n",
       "       [9.22816831e+11, 9.22815900e+11, 9.22412767e+11, ...,\n",
       "        0.00000000e+00, 1.38600004e+09, 1.17030000e+10],\n",
       "       [9.24202831e+11, 9.24201900e+11, 9.23798767e+11, ...,\n",
       "        1.38600004e+09, 0.00000000e+00, 1.03170000e+10],\n",
       "       [9.34519831e+11, 9.34518900e+11, 9.34115767e+11, ...,\n",
       "        1.17030000e+10, 1.03170000e+10, 0.00000000e+00]])"
      ]
     },
     "execution_count": 6,
     "metadata": {},
     "output_type": "execute_result"
    }
   ],
   "source": [
    "distance_matrix3 = calculate_dtw(df_300_samples)\n",
    "distance_matrix3"
   ]
  },
  {
   "cell_type": "code",
   "execution_count": 7,
   "id": "3550e2cd",
   "metadata": {},
   "outputs": [
    {
     "name": "stdout",
     "output_type": "stream",
     "text": [
      "Iniciando cálculo da matriz de distância DTW para 500 séries temporais...\n",
      "Convertendo dados para formato adequado: 0.01 segundos\n",
      "Calculando matriz de distância DTW (pode levar algum tempo)...\n",
      "Matriz de distância calculada em 194.61 segundos\n",
      "Tempo total da função calculate_dtw: 194.62 segundos\n",
      "Dimensões da matriz de distância: (500, 500)\n",
      "Média das distâncias: 816294574832.89\n",
      "Distância mínima (excluindo diagonais): 81.00\n",
      "Distância máxima: 2115174830954.00\n"
     ]
    },
    {
     "data": {
      "text/plain": [
       "array([[0.00000000e+00, 9.31012000e+05, 4.04064019e+08, ...,\n",
       "        2.09797183e+12, 2.09809083e+12, 2.11517483e+12],\n",
       "       [9.31012000e+05, 0.00000000e+00, 4.03133007e+08, ...,\n",
       "        2.09797090e+12, 2.09808990e+12, 2.11517390e+12],\n",
       "       [4.04064019e+08, 4.03133007e+08, 0.00000000e+00, ...,\n",
       "        2.09756777e+12, 2.09768677e+12, 2.11477077e+12],\n",
       "       ...,\n",
       "       [2.09797183e+12, 2.09797090e+12, 2.09756777e+12, ...,\n",
       "        0.00000000e+00, 1.18999942e+08, 1.72029999e+10],\n",
       "       [2.09809083e+12, 2.09808990e+12, 2.09768677e+12, ...,\n",
       "        1.18999942e+08, 0.00000000e+00, 1.70840000e+10],\n",
       "       [2.11517483e+12, 2.11517390e+12, 2.11477077e+12, ...,\n",
       "        1.72029999e+10, 1.70840000e+10, 0.00000000e+00]])"
      ]
     },
     "execution_count": 7,
     "metadata": {},
     "output_type": "execute_result"
    }
   ],
   "source": [
    "distance_matrix5 = calculate_dtw(df_500_samples)\n",
    "distance_matrix5"
   ]
  },
  {
   "cell_type": "code",
   "execution_count": 11,
   "id": "1820d82d",
   "metadata": {},
   "outputs": [
    {
     "name": "stdout",
     "output_type": "stream",
     "text": [
      "Iniciando cálculo da matriz de distância DTW para 800 séries temporais...\n",
      "Calculando matriz de distância DTW (pode levar algum tempo)...\n",
      "Matriz de distância calculada em 145.45 segundos\n",
      "Tempo total da função calculate_dtw: 145.45 segundos\n",
      "Dimensões da matriz de distância: (800, 800)\n",
      "Média das distâncias: 1418964672391.78\n",
      "Distância mínima (excluindo diagonais): 81.00\n",
      "Distância máxima: 3783414830989.00\n"
     ]
    },
    {
     "data": {
      "text/plain": [
       "array([[0.00000000e+00, 9.31012000e+05, 4.04064019e+08, ...,\n",
       "        3.77214483e+12, 3.77634083e+12, 3.78341483e+12],\n",
       "       [9.31012000e+05, 0.00000000e+00, 4.03133007e+08, ...,\n",
       "        3.77214390e+12, 3.77633990e+12, 3.78341390e+12],\n",
       "       [4.04064019e+08, 4.03133007e+08, 0.00000000e+00, ...,\n",
       "        3.77174077e+12, 3.77593677e+12, 3.78301077e+12],\n",
       "       ...,\n",
       "       [3.77214483e+12, 3.77214390e+12, 3.77174077e+12, ...,\n",
       "        0.00000000e+00, 4.19599994e+09, 1.12700000e+10],\n",
       "       [3.77634083e+12, 3.77633990e+12, 3.77593677e+12, ...,\n",
       "        4.19599994e+09, 0.00000000e+00, 7.07400002e+09],\n",
       "       [3.78341483e+12, 3.78341390e+12, 3.78301077e+12, ...,\n",
       "        1.12700000e+10, 7.07400002e+09, 0.00000000e+00]])"
      ]
     },
     "execution_count": 11,
     "metadata": {},
     "output_type": "execute_result"
    }
   ],
   "source": [
    "distance_matrix8_2 = calculate_dtw(df_800_samples, n_jobs=8)\n",
    "\n",
    "distance_matrix8_2"
   ]
  },
  {
   "cell_type": "code",
   "execution_count": 81,
   "id": "5dfaa080",
   "metadata": {},
   "outputs": [
    {
     "name": "stdout",
     "output_type": "stream",
     "text": [
      "Iniciando cálculo da matriz de distância DTW para 800 séries temporais...\n",
      "Calculando matriz de distância DTW (pode levar algum tempo)...\n",
      "Matriz de distância calculada em 618.40 segundos\n",
      "Tempo total da função calculate_dtw: 618.40 segundos\n",
      "Dimensões da matriz de distância: (800, 800)\n",
      "Média das distâncias: 1418964672391.78\n",
      "Distância mínima (excluindo diagonais): 81.00\n",
      "Distância máxima: 3783414830989.00\n"
     ]
    },
    {
     "data": {
      "text/plain": [
       "array([[0.00000000e+00, 9.31012000e+05, 4.04064019e+08, ...,\n",
       "        3.77214483e+12, 3.77634083e+12, 3.78341483e+12],\n",
       "       [9.31012000e+05, 0.00000000e+00, 4.03133007e+08, ...,\n",
       "        3.77214390e+12, 3.77633990e+12, 3.78341390e+12],\n",
       "       [4.04064019e+08, 4.03133007e+08, 0.00000000e+00, ...,\n",
       "        3.77174077e+12, 3.77593677e+12, 3.78301077e+12],\n",
       "       ...,\n",
       "       [3.77214483e+12, 3.77214390e+12, 3.77174077e+12, ...,\n",
       "        0.00000000e+00, 4.19599994e+09, 1.12700000e+10],\n",
       "       [3.77634083e+12, 3.77633990e+12, 3.77593677e+12, ...,\n",
       "        4.19599994e+09, 0.00000000e+00, 7.07400002e+09],\n",
       "       [3.78341483e+12, 3.78341390e+12, 3.78301077e+12, ...,\n",
       "        1.12700000e+10, 7.07400002e+09, 0.00000000e+00]])"
      ]
     },
     "execution_count": 81,
     "metadata": {},
     "output_type": "execute_result"
    }
   ],
   "source": [
    "distance_matrix8 = calculate_dtw(df_800_samples)\n",
    "distance_matrix8"
   ]
  },
  {
   "cell_type": "code",
   "execution_count": 82,
   "id": "06b6a8dd",
   "metadata": {},
   "outputs": [
    {
     "name": "stdout",
     "output_type": "stream",
     "text": [
      "Iniciando cálculo da matriz de distância DTW para 1000 séries temporais...\n",
      "Calculando matriz de distância DTW (pode levar algum tempo)...\n",
      "Matriz de distância calculada em 1024.72 segundos\n",
      "Tempo total da função calculate_dtw: 1024.72 segundos\n",
      "Dimensões da matriz de distância: (1000, 1000)\n",
      "Média das distâncias: 1779467383690.56\n",
      "Distância mínima (excluindo diagonais): 81.00\n",
      "Distância máxima: 4665537830969.00\n"
     ]
    },
    {
     "data": {
      "text/plain": [
       "array([[0.00000000e+00, 9.31012000e+05, 4.04064019e+08, ...,\n",
       "        4.66229883e+12, 4.66263383e+12, 4.66553783e+12],\n",
       "       [9.31012000e+05, 0.00000000e+00, 4.03133007e+08, ...,\n",
       "        4.66229790e+12, 4.66263290e+12, 4.66553690e+12],\n",
       "       [4.04064019e+08, 4.03133007e+08, 0.00000000e+00, ...,\n",
       "        4.66189477e+12, 4.66222977e+12, 4.66513377e+12],\n",
       "       ...,\n",
       "       [4.66229883e+12, 4.66229790e+12, 4.66189477e+12, ...,\n",
       "        0.00000000e+00, 3.35000018e+08, 3.23900000e+09],\n",
       "       [4.66263383e+12, 4.66263290e+12, 4.66222977e+12, ...,\n",
       "        3.35000018e+08, 0.00000000e+00, 2.90399999e+09],\n",
       "       [4.66553783e+12, 4.66553690e+12, 4.66513377e+12, ...,\n",
       "        3.23900000e+09, 2.90399999e+09, 0.00000000e+00]])"
      ]
     },
     "execution_count": 82,
     "metadata": {},
     "output_type": "execute_result"
    }
   ],
   "source": [
    "distance_matrix10 = calculate_dtw(df_1000_samples)\n",
    "distance_matrix10"
   ]
  },
  {
   "cell_type": "code",
   "execution_count": 12,
   "id": "1aaf8a35",
   "metadata": {},
   "outputs": [
    {
     "name": "stdout",
     "output_type": "stream",
     "text": [
      "Iniciando cálculo da matriz de distância DTW para 1500 séries temporais...\n",
      "Calculando matriz de distância DTW (pode levar algum tempo)...\n",
      "Matriz de distância calculada em 547.31 segundos\n",
      "Tempo total da função calculate_dtw: 547.31 segundos\n",
      "Dimensões da matriz de distância: (1500, 1500)\n",
      "Média das distâncias: 2547427585977.91\n",
      "Distância mínima (excluindo diagonais): 81.00\n",
      "Distância máxima: 7349808831021.00\n"
     ]
    },
    {
     "data": {
      "text/plain": [
       "array([[0.00000000e+00, 9.31012000e+05, 4.04064019e+08, ...,\n",
       "        7.34774583e+12, 7.34832683e+12, 7.34980883e+12],\n",
       "       [9.31012000e+05, 0.00000000e+00, 4.03133007e+08, ...,\n",
       "        7.34774490e+12, 7.34832590e+12, 7.34980790e+12],\n",
       "       [4.04064019e+08, 4.03133007e+08, 0.00000000e+00, ...,\n",
       "        7.34734177e+12, 7.34792277e+12, 7.34940477e+12],\n",
       "       ...,\n",
       "       [7.34774583e+12, 7.34774490e+12, 7.34734177e+12, ...,\n",
       "        0.00000000e+00, 5.80999952e+08, 2.06299997e+09],\n",
       "       [7.34832683e+12, 7.34832590e+12, 7.34792277e+12, ...,\n",
       "        5.80999952e+08, 0.00000000e+00, 1.48200002e+09],\n",
       "       [7.34980883e+12, 7.34980790e+12, 7.34940477e+12, ...,\n",
       "        2.06299997e+09, 1.48200002e+09, 0.00000000e+00]])"
      ]
     },
     "execution_count": 12,
     "metadata": {},
     "output_type": "execute_result"
    }
   ],
   "source": [
    "distance_matrix15 = calculate_dtw(df_1500_samples, n_jobs=8)\n",
    "distance_matrix15"
   ]
  },
  {
   "cell_type": "code",
   "execution_count": 14,
   "id": "9c99aa25",
   "metadata": {},
   "outputs": [
    {
     "name": "stdout",
     "output_type": "stream",
     "text": [
      "Iniciando cálculo da matriz de distância DTW para 4501 séries temporais...\n",
      "Calculando matriz de distância DTW (pode levar algum tempo)...\n"
     ]
    },
    {
     "ename": "KeyboardInterrupt",
     "evalue": "",
     "output_type": "error",
     "traceback": [
      "\u001b[1;31m---------------------------------------------------------------------------\u001b[0m",
      "\u001b[1;31mKeyboardInterrupt\u001b[0m                         Traceback (most recent call last)",
      "Cell \u001b[1;32mIn[14], line 1\u001b[0m\n\u001b[1;32m----> 1\u001b[0m distance_matrix_all \u001b[38;5;241m=\u001b[39m \u001b[43mcalculate_dtw\u001b[49m\u001b[43m(\u001b[49m\u001b[43msegundo_df_time_s_entrada\u001b[49m\u001b[43m,\u001b[49m\u001b[43m \u001b[49m\u001b[43mn_jobs\u001b[49m\u001b[38;5;241;43m=\u001b[39;49m\u001b[38;5;241;43m8\u001b[39;49m\u001b[43m)\u001b[49m\n\u001b[0;32m      2\u001b[0m np\u001b[38;5;241m.\u001b[39msave(\u001b[38;5;124m'\u001b[39m\u001b[38;5;124mmdtw_all.npy\u001b[39m\u001b[38;5;124m'\u001b[39m, distance_matrix_all)\n\u001b[0;32m      3\u001b[0m distance_matrix_all\n",
      "Cell \u001b[1;32mIn[10], line 21\u001b[0m, in \u001b[0;36mcalculate_dtw\u001b[1;34m(time_series_passed, n_jobs)\u001b[0m\n\u001b[0;32m     19\u001b[0m \u001b[38;5;28mprint\u001b[39m(\u001b[38;5;124m\"\u001b[39m\u001b[38;5;124mCalculando matriz de distância DTW (pode levar algum tempo)...\u001b[39m\u001b[38;5;124m\"\u001b[39m)\n\u001b[0;32m     20\u001b[0m tempo_calculo \u001b[38;5;241m=\u001b[39m time\u001b[38;5;241m.\u001b[39mtime()\n\u001b[1;32m---> 21\u001b[0m distance_matrix \u001b[38;5;241m=\u001b[39m \u001b[43mcdist_dtw\u001b[49m\u001b[43m(\u001b[49m\u001b[43mtime_series_passed\u001b[49m\u001b[43m,\u001b[49m\u001b[43m \u001b[49m\u001b[43mn_jobs\u001b[49m\u001b[38;5;241;43m=\u001b[39;49m\u001b[43mn_jobs\u001b[49m\u001b[43m)\u001b[49m\n\u001b[0;32m     22\u001b[0m tempo_fim \u001b[38;5;241m=\u001b[39m time\u001b[38;5;241m.\u001b[39mtime()\n\u001b[0;32m     24\u001b[0m \u001b[38;5;28mprint\u001b[39m(\u001b[38;5;124mf\u001b[39m\u001b[38;5;124m\"\u001b[39m\u001b[38;5;124mMatriz de distância calculada em \u001b[39m\u001b[38;5;132;01m{\u001b[39;00mtempo_fim\u001b[38;5;250m \u001b[39m\u001b[38;5;241m-\u001b[39m\u001b[38;5;250m \u001b[39mtempo_calculo\u001b[38;5;132;01m:\u001b[39;00m\u001b[38;5;124m.2f\u001b[39m\u001b[38;5;132;01m}\u001b[39;00m\u001b[38;5;124m segundos\u001b[39m\u001b[38;5;124m\"\u001b[39m)\n",
      "File \u001b[1;32mc:\\PIBIC POCO\\venv\\Lib\\site-packages\\tslearn\\metrics\\dtw_variants.py:1934\u001b[0m, in \u001b[0;36mcdist_dtw\u001b[1;34m(dataset1, dataset2, global_constraint, sakoe_chiba_radius, itakura_max_slope, n_jobs, verbose, be)\u001b[0m\n\u001b[0;32m   1833\u001b[0m \u001b[38;5;250m\u001b[39m\u001b[38;5;124mr\u001b[39m\u001b[38;5;124;03m\"\"\"Compute cross-similarity matrix using Dynamic Time Warping (DTW)\u001b[39;00m\n\u001b[0;32m   1834\u001b[0m \u001b[38;5;124;03msimilarity measure.\u001b[39;00m\n\u001b[0;32m   1835\u001b[0m \n\u001b[1;32m   (...)\u001b[0m\n\u001b[0;32m   1931\u001b[0m \u001b[38;5;124;03m       Signal Processing, vol. 26(1), pp. 43--49, 1978.\u001b[39;00m\n\u001b[0;32m   1932\u001b[0m \u001b[38;5;124;03m\"\"\"\u001b[39;00m  \u001b[38;5;66;03m# noqa: E501\u001b[39;00m\n\u001b[0;32m   1933\u001b[0m be \u001b[38;5;241m=\u001b[39m instantiate_backend(be, dataset1, dataset2)\n\u001b[1;32m-> 1934\u001b[0m \u001b[38;5;28;01mreturn\u001b[39;00m \u001b[43m_cdist_generic\u001b[49m\u001b[43m(\u001b[49m\n\u001b[0;32m   1935\u001b[0m \u001b[43m    \u001b[49m\u001b[43mdist_fun\u001b[49m\u001b[38;5;241;43m=\u001b[39;49m\u001b[43mdtw\u001b[49m\u001b[43m,\u001b[49m\n\u001b[0;32m   1936\u001b[0m \u001b[43m    \u001b[49m\u001b[43mdataset1\u001b[49m\u001b[38;5;241;43m=\u001b[39;49m\u001b[43mdataset1\u001b[49m\u001b[43m,\u001b[49m\n\u001b[0;32m   1937\u001b[0m \u001b[43m    \u001b[49m\u001b[43mdataset2\u001b[49m\u001b[38;5;241;43m=\u001b[39;49m\u001b[43mdataset2\u001b[49m\u001b[43m,\u001b[49m\n\u001b[0;32m   1938\u001b[0m \u001b[43m    \u001b[49m\u001b[43mn_jobs\u001b[49m\u001b[38;5;241;43m=\u001b[39;49m\u001b[43mn_jobs\u001b[49m\u001b[43m,\u001b[49m\n\u001b[0;32m   1939\u001b[0m \u001b[43m    \u001b[49m\u001b[43mverbose\u001b[49m\u001b[38;5;241;43m=\u001b[39;49m\u001b[43mverbose\u001b[49m\u001b[43m,\u001b[49m\n\u001b[0;32m   1940\u001b[0m \u001b[43m    \u001b[49m\u001b[43mcompute_diagonal\u001b[49m\u001b[38;5;241;43m=\u001b[39;49m\u001b[38;5;28;43;01mFalse\u001b[39;49;00m\u001b[43m,\u001b[49m\n\u001b[0;32m   1941\u001b[0m \u001b[43m    \u001b[49m\u001b[43mglobal_constraint\u001b[49m\u001b[38;5;241;43m=\u001b[39;49m\u001b[43mglobal_constraint\u001b[49m\u001b[43m,\u001b[49m\n\u001b[0;32m   1942\u001b[0m \u001b[43m    \u001b[49m\u001b[43msakoe_chiba_radius\u001b[49m\u001b[38;5;241;43m=\u001b[39;49m\u001b[43msakoe_chiba_radius\u001b[49m\u001b[43m,\u001b[49m\n\u001b[0;32m   1943\u001b[0m \u001b[43m    \u001b[49m\u001b[43mitakura_max_slope\u001b[49m\u001b[38;5;241;43m=\u001b[39;49m\u001b[43mitakura_max_slope\u001b[49m\u001b[43m,\u001b[49m\n\u001b[0;32m   1944\u001b[0m \u001b[43m    \u001b[49m\u001b[43mbe\u001b[49m\u001b[38;5;241;43m=\u001b[39;49m\u001b[43mbe\u001b[49m\u001b[43m,\u001b[49m\n\u001b[0;32m   1945\u001b[0m \u001b[43m\u001b[49m\u001b[43m)\u001b[49m\n",
      "File \u001b[1;32mc:\\PIBIC POCO\\venv\\Lib\\site-packages\\tslearn\\metrics\\utils.py:88\u001b[0m, in \u001b[0;36m_cdist_generic\u001b[1;34m(dist_fun, dataset1, dataset2, n_jobs, verbose, compute_diagonal, dtype, be, *args, **kwargs)\u001b[0m\n\u001b[0;32m     82\u001b[0m matrix \u001b[38;5;241m=\u001b[39m be\u001b[38;5;241m.\u001b[39mzeros((\u001b[38;5;28mlen\u001b[39m(dataset1), \u001b[38;5;28mlen\u001b[39m(dataset1)))\n\u001b[0;32m     83\u001b[0m indices \u001b[38;5;241m=\u001b[39m be\u001b[38;5;241m.\u001b[39mtriu_indices(\n\u001b[0;32m     84\u001b[0m     \u001b[38;5;28mlen\u001b[39m(dataset1), k\u001b[38;5;241m=\u001b[39m\u001b[38;5;241m0\u001b[39m \u001b[38;5;28;01mif\u001b[39;00m compute_diagonal \u001b[38;5;28;01melse\u001b[39;00m \u001b[38;5;241m1\u001b[39m, m\u001b[38;5;241m=\u001b[39m\u001b[38;5;28mlen\u001b[39m(dataset1)\n\u001b[0;32m     85\u001b[0m )\n\u001b[0;32m     87\u001b[0m matrix[indices] \u001b[38;5;241m=\u001b[39m be\u001b[38;5;241m.\u001b[39marray(\n\u001b[1;32m---> 88\u001b[0m     \u001b[43mParallel\u001b[49m\u001b[43m(\u001b[49m\u001b[43mn_jobs\u001b[49m\u001b[38;5;241;43m=\u001b[39;49m\u001b[43mn_jobs\u001b[49m\u001b[43m,\u001b[49m\u001b[43m \u001b[49m\u001b[43mprefer\u001b[49m\u001b[38;5;241;43m=\u001b[39;49m\u001b[38;5;124;43m\"\u001b[39;49m\u001b[38;5;124;43mthreads\u001b[39;49m\u001b[38;5;124;43m\"\u001b[39;49m\u001b[43m,\u001b[49m\u001b[43m \u001b[49m\u001b[43mverbose\u001b[49m\u001b[38;5;241;43m=\u001b[39;49m\u001b[43mverbose\u001b[49m\u001b[43m)\u001b[49m\u001b[43m(\u001b[49m\n\u001b[0;32m     89\u001b[0m \u001b[43m        \u001b[49m\u001b[43mdelayed\u001b[49m\u001b[43m(\u001b[49m\u001b[43mdist_fun\u001b[49m\u001b[43m)\u001b[49m\u001b[43m(\u001b[49m\u001b[43mdataset1\u001b[49m\u001b[43m[\u001b[49m\u001b[43mi\u001b[49m\u001b[43m]\u001b[49m\u001b[43m,\u001b[49m\u001b[43m \u001b[49m\u001b[43mdataset1\u001b[49m\u001b[43m[\u001b[49m\u001b[43mj\u001b[49m\u001b[43m]\u001b[49m\u001b[43m,\u001b[49m\u001b[43m \u001b[49m\u001b[38;5;241;43m*\u001b[39;49m\u001b[43margs\u001b[49m\u001b[43m,\u001b[49m\u001b[43m \u001b[49m\u001b[38;5;241;43m*\u001b[39;49m\u001b[38;5;241;43m*\u001b[39;49m\u001b[43mkwargs\u001b[49m\u001b[43m)\u001b[49m\n\u001b[0;32m     90\u001b[0m \u001b[43m        \u001b[49m\u001b[38;5;28;43;01mfor\u001b[39;49;00m\u001b[43m \u001b[49m\u001b[43mi\u001b[49m\u001b[43m \u001b[49m\u001b[38;5;129;43;01min\u001b[39;49;00m\u001b[43m \u001b[49m\u001b[38;5;28;43mrange\u001b[39;49m\u001b[43m(\u001b[49m\u001b[38;5;28;43mlen\u001b[39;49m\u001b[43m(\u001b[49m\u001b[43mdataset1\u001b[49m\u001b[43m)\u001b[49m\u001b[43m)\u001b[49m\n\u001b[0;32m     91\u001b[0m \u001b[43m        \u001b[49m\u001b[38;5;28;43;01mfor\u001b[39;49;00m\u001b[43m \u001b[49m\u001b[43mj\u001b[49m\u001b[43m \u001b[49m\u001b[38;5;129;43;01min\u001b[39;49;00m\u001b[43m \u001b[49m\u001b[38;5;28;43mrange\u001b[39;49m\u001b[43m(\u001b[49m\u001b[43mi\u001b[49m\u001b[43m \u001b[49m\u001b[38;5;28;43;01mif\u001b[39;49;00m\u001b[43m \u001b[49m\u001b[43mcompute_diagonal\u001b[49m\u001b[43m \u001b[49m\u001b[38;5;28;43;01melse\u001b[39;49;00m\u001b[43m \u001b[49m\u001b[43mi\u001b[49m\u001b[43m \u001b[49m\u001b[38;5;241;43m+\u001b[39;49m\u001b[43m \u001b[49m\u001b[38;5;241;43m1\u001b[39;49m\u001b[43m,\u001b[49m\u001b[43m \u001b[49m\u001b[38;5;28;43mlen\u001b[39;49m\u001b[43m(\u001b[49m\u001b[43mdataset1\u001b[49m\u001b[43m)\u001b[49m\u001b[43m)\u001b[49m\n\u001b[0;32m     92\u001b[0m \u001b[43m    \u001b[49m\u001b[43m)\u001b[49m\n\u001b[0;32m     93\u001b[0m )\n\u001b[0;32m     95\u001b[0m indices \u001b[38;5;241m=\u001b[39m be\u001b[38;5;241m.\u001b[39mtril_indices(\u001b[38;5;28mlen\u001b[39m(dataset1), k\u001b[38;5;241m=\u001b[39m\u001b[38;5;241m-\u001b[39m\u001b[38;5;241m1\u001b[39m, m\u001b[38;5;241m=\u001b[39m\u001b[38;5;28mlen\u001b[39m(dataset1))\n\u001b[0;32m     96\u001b[0m matrix[indices] \u001b[38;5;241m=\u001b[39m matrix\u001b[38;5;241m.\u001b[39mT[indices]\n",
      "File \u001b[1;32mc:\\PIBIC POCO\\venv\\Lib\\site-packages\\joblib\\parallel.py:2007\u001b[0m, in \u001b[0;36mParallel.__call__\u001b[1;34m(self, iterable)\u001b[0m\n\u001b[0;32m   2001\u001b[0m \u001b[38;5;66;03m# The first item from the output is blank, but it makes the interpreter\u001b[39;00m\n\u001b[0;32m   2002\u001b[0m \u001b[38;5;66;03m# progress until it enters the Try/Except block of the generator and\u001b[39;00m\n\u001b[0;32m   2003\u001b[0m \u001b[38;5;66;03m# reaches the first `yield` statement. This starts the asynchronous\u001b[39;00m\n\u001b[0;32m   2004\u001b[0m \u001b[38;5;66;03m# dispatch of the tasks to the workers.\u001b[39;00m\n\u001b[0;32m   2005\u001b[0m \u001b[38;5;28mnext\u001b[39m(output)\n\u001b[1;32m-> 2007\u001b[0m \u001b[38;5;28;01mreturn\u001b[39;00m output \u001b[38;5;28;01mif\u001b[39;00m \u001b[38;5;28mself\u001b[39m\u001b[38;5;241m.\u001b[39mreturn_generator \u001b[38;5;28;01melse\u001b[39;00m \u001b[38;5;28;43mlist\u001b[39;49m\u001b[43m(\u001b[49m\u001b[43moutput\u001b[49m\u001b[43m)\u001b[49m\n",
      "File \u001b[1;32mc:\\PIBIC POCO\\venv\\Lib\\site-packages\\joblib\\parallel.py:1650\u001b[0m, in \u001b[0;36mParallel._get_outputs\u001b[1;34m(self, iterator, pre_dispatch)\u001b[0m\n\u001b[0;32m   1647\u001b[0m     \u001b[38;5;28;01myield\u001b[39;00m\n\u001b[0;32m   1649\u001b[0m     \u001b[38;5;28;01mwith\u001b[39;00m \u001b[38;5;28mself\u001b[39m\u001b[38;5;241m.\u001b[39m_backend\u001b[38;5;241m.\u001b[39mretrieval_context():\n\u001b[1;32m-> 1650\u001b[0m         \u001b[38;5;28;01myield from\u001b[39;00m \u001b[38;5;28mself\u001b[39m\u001b[38;5;241m.\u001b[39m_retrieve()\n\u001b[0;32m   1652\u001b[0m \u001b[38;5;28;01mexcept\u001b[39;00m \u001b[38;5;167;01mGeneratorExit\u001b[39;00m:\n\u001b[0;32m   1653\u001b[0m     \u001b[38;5;66;03m# The generator has been garbage collected before being fully\u001b[39;00m\n\u001b[0;32m   1654\u001b[0m     \u001b[38;5;66;03m# consumed. This aborts the remaining tasks if possible and warn\u001b[39;00m\n\u001b[0;32m   1655\u001b[0m     \u001b[38;5;66;03m# the user if necessary.\u001b[39;00m\n\u001b[0;32m   1656\u001b[0m     \u001b[38;5;28mself\u001b[39m\u001b[38;5;241m.\u001b[39m_exception \u001b[38;5;241m=\u001b[39m \u001b[38;5;28;01mTrue\u001b[39;00m\n",
      "File \u001b[1;32mc:\\PIBIC POCO\\venv\\Lib\\site-packages\\joblib\\parallel.py:1762\u001b[0m, in \u001b[0;36mParallel._retrieve\u001b[1;34m(self)\u001b[0m\n\u001b[0;32m   1757\u001b[0m \u001b[38;5;66;03m# If the next job is not ready for retrieval yet, we just wait for\u001b[39;00m\n\u001b[0;32m   1758\u001b[0m \u001b[38;5;66;03m# async callbacks to progress.\u001b[39;00m\n\u001b[0;32m   1759\u001b[0m \u001b[38;5;28;01mif\u001b[39;00m ((\u001b[38;5;28mlen\u001b[39m(\u001b[38;5;28mself\u001b[39m\u001b[38;5;241m.\u001b[39m_jobs) \u001b[38;5;241m==\u001b[39m \u001b[38;5;241m0\u001b[39m) \u001b[38;5;129;01mor\u001b[39;00m\n\u001b[0;32m   1760\u001b[0m     (\u001b[38;5;28mself\u001b[39m\u001b[38;5;241m.\u001b[39m_jobs[\u001b[38;5;241m0\u001b[39m]\u001b[38;5;241m.\u001b[39mget_status(\n\u001b[0;32m   1761\u001b[0m         timeout\u001b[38;5;241m=\u001b[39m\u001b[38;5;28mself\u001b[39m\u001b[38;5;241m.\u001b[39mtimeout) \u001b[38;5;241m==\u001b[39m TASK_PENDING)):\n\u001b[1;32m-> 1762\u001b[0m     \u001b[43mtime\u001b[49m\u001b[38;5;241;43m.\u001b[39;49m\u001b[43msleep\u001b[49m\u001b[43m(\u001b[49m\u001b[38;5;241;43m0.01\u001b[39;49m\u001b[43m)\u001b[49m\n\u001b[0;32m   1763\u001b[0m     \u001b[38;5;28;01mcontinue\u001b[39;00m\n\u001b[0;32m   1765\u001b[0m \u001b[38;5;66;03m# We need to be careful: the job list can be filling up as\u001b[39;00m\n\u001b[0;32m   1766\u001b[0m \u001b[38;5;66;03m# we empty it and Python list are not thread-safe by\u001b[39;00m\n\u001b[0;32m   1767\u001b[0m \u001b[38;5;66;03m# default hence the use of the lock\u001b[39;00m\n",
      "\u001b[1;31mKeyboardInterrupt\u001b[0m: "
     ]
    }
   ],
   "source": [
    "distance_matrix_all = calculate_dtw(segundo_df_time_s_entrada, n_jobs=8)\n",
    "np.save('mdtw_all.npy', distance_matrix_all)\n",
    "distance_matrix_all"
   ]
  },
  {
   "cell_type": "code",
   "execution_count": 84,
   "id": "1934364e",
   "metadata": {},
   "outputs": [],
   "source": [
    "# Saving matrices\n",
    "\n",
    "np.save('mdtw0.npy', distance_matrix_cambios)\n",
    "np.save('mdtw1.npy', distance_matrix1)\n",
    "np.save('mdtw3.npy', distance_matrix3)\n",
    "np.save('mdtw5.npy', distance_matrix5)\n",
    "np.save('mdtw8.npy', distance_matrix8)\n",
    "np.save('mdtw10.npy', distance_matrix10)\n",
    "np.save('mdtw15.npy', distance_matrix15)"
   ]
  },
  {
   "cell_type": "code",
   "execution_count": 75,
   "id": "e3425b84",
   "metadata": {},
   "outputs": [
    {
     "name": "stdout",
     "output_type": "stream",
     "text": [
      "labels 100\n",
      "[ 0  0  0  0  0  0  0  0  0  0  0  0  0  0  0  0  0  0  0  0  0  0  0  0\n",
      "  0  0  0  0  0  0  0  1  1  1  1  1  1  1  1  1  1  1  1  1  1  1  1  1\n",
      "  1  2  2  2  2  2  2  2  3  3  3  3  3  3  3  3  3  4  4  4  4  4 -1  5\n",
      "  5  5  5  5  5  5  6  6  6  6  6  6  7  7  7  7  7  7  7  7  7  8  8  8\n",
      "  8  8 -1 -1]\n",
      "Número de clusters encontrados: 9\n",
      "Número de pontos de ruído: 3\n",
      "Distribuição dos clusters: [ 3 31 18  7  9  5  7  6  9  5]\n"
     ]
    }
   ],
   "source": [
    "dbscan_object = DBSCAN(\n",
    "    eps=10**9,\n",
    "    metric=\"precomputed\",\n",
    "    min_samples=3\n",
    ")\n",
    "\n",
    "labels1 = dbscan_object.fit_predict(distance_matrix1)\n",
    "print(\"labels 100\")\n",
    "print(labels1)\n",
    "\n",
    "# Analisando resultados\n",
    "n_clusters = len(set(labels1)) - (1 if -1 in labels1 else 0)\n",
    "n_noise = list(labels1).count(-1)\n",
    "print(f\"Número de clusters encontrados: {n_clusters}\")\n",
    "print(f\"Número de pontos de ruído: {n_noise}\")\n",
    "print(f\"Distribuição dos clusters: {np.bincount(labels1 + 1)}\")"
   ]
  },
  {
   "cell_type": "code",
   "execution_count": 78,
   "id": "a1d49812",
   "metadata": {},
   "outputs": [
    {
     "name": "stdout",
     "output_type": "stream",
     "text": [
      "labels 300\n",
      "[ 0  0  0  0  0  0  0  0  0  0  0  0  0  0  0  0  0  0  0  0  0  0  0  0\n",
      "  0  0  0  0  0  0  0  1  1  1  1  1  1  1  1  1  1  1  1  1  1  1  1  1\n",
      "  1  2  2  2  2  2  2  2  3  3  3  3  3  3  3  3  3  4  4  4  4  4 -1  5\n",
      "  5  5  5  5  5  5  6  6  6  6  6  6  7  7  7  7  7  7  7  7  7  8  8  8\n",
      "  8  8  9  9  9  9 10 10 10 -1 11 11 11 11 11 -1 12 12 12 12 12 12 -1 -1\n",
      " -1 13 13 13 13 14 14 14 14 14 14 14 14 15 15 15 15 15 15 15 15 15 15 15\n",
      " 15 15 15 15 15 15 15 16 16 16 16 16 -1 -1 17 17 17 17 17 18 18 18 18 19\n",
      " 19 19 -1 -1 -1 -1 -1 -1 20 20 20 -1 -1 -1 -1 -1 -1 -1 -1 -1 -1 -1 -1 -1\n",
      " -1 -1 -1 -1 -1 -1 -1 -1 -1 -1 -1 -1 -1 -1 -1 -1 -1 -1 -1 -1 -1 -1 -1 -1\n",
      " -1 -1 -1 -1 -1 -1 -1 -1 -1 -1 -1 -1 -1 -1 -1 -1 -1 -1 -1 -1 -1 -1 -1 -1\n",
      " -1 -1 -1 -1 -1 -1 -1 -1 -1 -1 -1 -1 21 21 21 -1 -1 -1 -1 -1 -1 -1 -1 -1\n",
      " -1 -1 -1 -1 -1 -1 -1 -1 -1 -1 -1 -1 -1 -1 -1 -1 -1 -1 -1 -1 -1 -1 -1 22\n",
      " 22 22 -1 -1 -1 -1 -1 -1 -1 -1 -1 -1]\n",
      "Número de clusters encontrados: 23\n",
      "Número de pontos de ruído: 129\n",
      "Distribuição dos clusters: [129  31  18   7   9   5   7   6   9   5   4   3   5   6   4   8  18   5\n",
      "   5   4   3   3   3   3]\n"
     ]
    }
   ],
   "source": [
    "dbscan_object = DBSCAN(\n",
    "    eps=10**9 ,\n",
    "    metric=\"precomputed\",\n",
    "    min_samples=3\n",
    ")\n",
    "\n",
    "labels3 = dbscan_object.fit_predict(distance_matrix3)\n",
    "print(\"labels 300\")\n",
    "print(labels3)\n",
    "\n",
    "# Analisando resultados\n",
    "n_clusters = len(set(labels3)) - (1 if -1 in labels3 else 0)\n",
    "n_noise = list(labels3).count(-1)\n",
    "print(f\"Número de clusters encontrados: {n_clusters}\")\n",
    "print(f\"Número de pontos de ruído: {n_noise}\")\n",
    "print(f\"Distribuição dos clusters: {np.bincount(labels3 + 1)}\")"
   ]
  },
  {
   "cell_type": "code",
   "execution_count": 80,
   "id": "47b61a4d",
   "metadata": {},
   "outputs": [
    {
     "name": "stdout",
     "output_type": "stream",
     "text": [
      "labels 500\n",
      "[ 0  0  0  0  0  0  0  0  0  0  0  0  0  0  0  0  0  0  0  0  0  0  0  0\n",
      "  0  0  0  0  0  0  0  0  0  0  0  0  0  0  0  0  0  0  0  0  0  0  0  0\n",
      "  0  0  0  0  0  0  0  0  0  0  0  0  0  0  0  0  0  0  0  0  0  0  0  0\n",
      "  0  0  0  0  0  0  0  0  0  0  0  0  0  0  0  0  0  0  0  0  0  0  0  0\n",
      "  0  0  0  0  0  0  0  0  0  0  0  0  0  0  0  0  0  0  0  0  0  0  0  0\n",
      "  0  0  0  0  0  0  0  0  0  0  0  0  0  0  0  0  0  0  0  0  0  0  0  0\n",
      "  0  0  0  0  0  0  0  0  0  0  0  0  0  0  0  0  0  0  0  0  0  0  0  0\n",
      "  0  0  0  0  0  0  0  0  0  0  0  1  1  1  1  1  1  2  2  2  3  3  3  3\n",
      "  3  3  3  3  3  3  3  3  3  4  4  4  5  5  5  6  6  6  6  6  6 -1 -1 -1\n",
      " -1 -1  7  7  7  7  7  7  7  7  7  7  7  7  8  8  8  8  8  8  8 -1 -1  9\n",
      "  9  9  9 10 10 10 10 10 10 11 11 11 11 11 11 11 11 11 11 -1 12 12 12 12\n",
      " 12 12 12 12 12 12 12 12 12 12 -1 -1 -1 -1 13 13 13 13 13 14 14 14 14 14\n",
      " 14 14 14 14 14 14 -1 15 15 15 15 -1 16 16 16 16 16 16 16 16 16 16 17 17\n",
      " 17 18 18 18 18 18 18 18 18 18 19 19 19 19 20 20 20 -1 -1 21 21 21 -1 -1\n",
      " 22 22 22 22 22 23 23 23 23 23 23 23 23 23 23 24 24 24 24 25 25 25 25 25\n",
      " 25 25 25 26 26 26 26 26 -1 -1 27 27 27 27 27 28 28 28 28 28 28 28 28 29\n",
      " 29 29 29 29 29 29 29 29 29 29 29 29 29 29 29 30 30 30 30 30 30 31 31 31\n",
      " 31 31 31 31 31 32 32 32 33 33 33 33 33 33 33 -1 -1 -1 -1 34 34 34 34 34\n",
      " -1 -1 35 35 35 36 36 36 36 -1 37 37 37 37 37 37 37 37 37 37 37 37 37 37\n",
      " 37 37 37 37 37 37 38 38 38 38 38 38 38 38 38 39 39 39 39 39 40 40 40 41\n",
      " 41 41 41 41 41 42 42 42 42 42 42 42 42 42 42 42 42 42 42 -1]\n",
      "Número de clusters encontrados: 43\n",
      "Número de pontos de ruído: 28\n",
      "Distribuição dos clusters: [ 28 179   6   3  13   3   3   6  12   7   4   6  10  14   5  11   4  10\n",
      "   3   9   4   3   3   5  10   4   8   5   5   8  16   6   8   3   7   5\n",
      "   3   4  20   9   5   3   6  14]\n"
     ]
    }
   ],
   "source": [
    "dbscan_object = DBSCAN(\n",
    "    eps=10**10,\n",
    "    metric=\"precomputed\",\n",
    "    min_samples=3\n",
    ")\n",
    "\n",
    "labels5 = dbscan_object.fit_predict(distance_matrix5)\n",
    "print(\"labels 500\")\n",
    "print(labels5)\n",
    "\n",
    "# Analisando resultados\n",
    "n_clusters = len(set(labels5)) - (1 if -1 in labels5 else 0)\n",
    "n_noise = list(labels5).count(-1)\n",
    "print(f\"Número de clusters encontrados: {n_clusters}\")\n",
    "print(f\"Número de pontos de ruído: {n_noise}\")\n",
    "print(f\"Distribuição dos clusters: {np.bincount(labels5 + 1)}\")"
   ]
  },
  {
   "cell_type": "code",
   "execution_count": 85,
   "id": "a2b0d813",
   "metadata": {},
   "outputs": [
    {
     "name": "stdout",
     "output_type": "stream",
     "text": [
      "Número de clusters encontrados: 84\n",
      "Número de pontos de ruído: 47\n",
      "Distribuição dos clusters: [ 47 179   6   3  13   3   3   6  12   7   4   6  10  14   5  11   4  10\n",
      "   3   9   4   3   3   5  10   4   8   5   5   8  16   6   8   3   7   5\n",
      "   3   4  20   9   5   3   6  14   8  10   5  11   3   5   6  15  15   9\n",
      "   5  11   3   4   4   8   3   5   3   4   3   7   6  10   6   5  12  13\n",
      "   4   3   4   3   4  12  11   7   5   3  15   3   8]\n"
     ]
    }
   ],
   "source": [
    "dbscan_object = DBSCAN(\n",
    "    eps=10**10,\n",
    "    metric=\"precomputed\",\n",
    "    min_samples=3\n",
    ")\n",
    "\n",
    "labels8 = dbscan_object.fit_predict(distance_matrix8)\n",
    "# print(\"labels 800\")\n",
    "# print(labels8)\n",
    "\n",
    "# Analisando resultados\n",
    "n_clusters = len(set(labels8)) - (1 if -1 in labels8 else 0)\n",
    "n_noise = list(labels8).count(-1)\n",
    "print(f\"Número de clusters encontrados: {n_clusters}\")\n",
    "print(f\"Número de pontos de ruído: {n_noise}\")\n",
    "print(f\"Distribuição dos clusters: {np.bincount(labels8 + 1)}\")"
   ]
  },
  {
   "cell_type": "code",
   "execution_count": null,
   "id": "9ef47406",
   "metadata": {},
   "outputs": [],
   "source": []
  }
 ],
 "metadata": {
  "kernelspec": {
   "display_name": "venv",
   "language": "python",
   "name": "python3"
  },
  "language_info": {
   "codemirror_mode": {
    "name": "ipython",
    "version": 3
   },
   "file_extension": ".py",
   "mimetype": "text/x-python",
   "name": "python",
   "nbconvert_exporter": "python",
   "pygments_lexer": "ipython3",
   "version": "3.12.3"
  }
 },
 "nbformat": 4,
 "nbformat_minor": 5
}
