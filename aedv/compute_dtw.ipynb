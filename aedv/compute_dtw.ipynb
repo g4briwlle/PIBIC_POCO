{
 "cells": [
  {
   "cell_type": "code",
   "execution_count": 1,
   "id": "ad623012",
   "metadata": {},
   "outputs": [
    {
     "name": "stderr",
     "output_type": "stream",
     "text": [
      "c:\\PIBIC POCO\\venv\\Lib\\site-packages\\tslearn\\bases\\bases.py:15: UserWarning: h5py not installed, hdf5 features will not be supported.\n",
      "Install h5py to use hdf5 features: http://docs.h5py.org/\n",
      "  warn(h5py_msg)\n"
     ]
    }
   ],
   "source": [
    "\"\"\" Módulo do cálculo do fast DTW\n",
    "03\n",
    "\n",
    "\"\"\"\n",
    "\n",
    "import time\n",
    "from tqdm import tqdm\n",
    "from fastdtw import fastdtw\n",
    "from scipy.spatial.distance import euclidean\n",
    "from tslearn.metrics import cdist_dtw\n",
    "from sklearn.cluster import DBSCAN\n",
    "import pandas as pd\n",
    "import numpy as np\n",
    "import reading_data"
   ]
  },
  {
   "cell_type": "code",
   "execution_count": 2,
   "id": "3ef8d073",
   "metadata": {},
   "outputs": [],
   "source": [
    "# Getting whole data, 4500 emps\n",
    "df_time_s_entrada = pd.read_csv(reading_data.df_time_s_entrada)\n",
    "df_time_s_entrada[\"Empresa\"] = df_time_s_entrada[\"Empresa\"].astype(str)\n",
    "\n",
    "segundo_df_time_s_entrada = pd.read_csv(reading_data.segundo_df_time_s_entrada)\n",
    "segundo_df_time_s_entrada[\"Empresa\"] = segundo_df_time_s_entrada[\"Empresa\"].astype(str)"
   ]
  },
  {
   "cell_type": "code",
   "execution_count": 16,
   "id": "91a8d7b4",
   "metadata": {},
   "outputs": [],
   "source": [
    "# Usando o df de emps que trocaram de nome ao longo dos 11 anos (55 emps)\n",
    "df_hist_cambios = pd.read_csv(reading_data.historial_cambios_me_epp_solo)\n",
    "emps_suspicious = df_hist_cambios[[\"CPF_CNPJ_Rem\"]].rename(columns = {\"CPF_CNPJ_Rem\": \"Empresa\"}).astype(str)\n",
    "\n",
    "df_cambios = segundo_df_time_s_entrada[segundo_df_time_s_entrada['Empresa'].isin(emps_suspicious['Empresa'])]\n",
    "# df_cambios   52 rows × 366 columns"
   ]
  },
  {
   "cell_type": "code",
   "execution_count": 3,
   "id": "67b1acf7",
   "metadata": {},
   "outputs": [],
   "source": [
    "# 100 samples\n",
    "df_100_samples = segundo_df_time_s_entrada[:100]\n",
    "\n",
    "# 300\n",
    "df_300_samples = segundo_df_time_s_entrada[:300]\n",
    "\n",
    "# 500\n",
    "df_500_samples = segundo_df_time_s_entrada[:500]\n",
    "\n",
    "df_800_samples = segundo_df_time_s_entrada[:800]\n",
    "\n",
    "df_1000_samples= segundo_df_time_s_entrada[:1000]\n",
    "\n",
    "df_1500_samples= segundo_df_time_s_entrada[:1500]"
   ]
  },
  {
   "cell_type": "code",
   "execution_count": 31,
   "id": "45b31baa",
   "metadata": {},
   "outputs": [],
   "source": [
    "def calculate_dtw(time_series_passed: pd.DataFrame):\n",
    "    \"\"\"Calcula a matriz de distância DTW entre séries temporais.\n",
    "    \n",
    "    Parameters\n",
    "    ----------\n",
    "    time_series_passed : pd.DataFrame\n",
    "        DataFrame com séries temporais onde cada linha é uma série\n",
    "        \n",
    "    Returns\n",
    "    -------\n",
    "    numpy.ndarray\n",
    "        Matriz de distância DTW entre todas as séries\n",
    "    \"\"\"\n",
    "\n",
    "    print(f\"Iniciando cálculo da matriz de distância DTW para {time_series_passed.shape[0]} séries temporais...\")\n",
    "    tempo_inicio = time.time()\n",
    "    \n",
    "    # calculating cross similarity matrix com barra de progresso\n",
    "    print(\"Calculando matriz de distância DTW (pode levar algum tempo)...\")\n",
    "    tempo_calculo = time.time()\n",
    "    distance_matrix = cdist_dtw(time_series_passed)\n",
    "    tempo_fim = time.time()\n",
    "    \n",
    "    print(f\"Matriz de distância calculada em {tempo_fim - tempo_calculo:.2f} segundos\")\n",
    "    print(f\"Tempo total da função calculate_dtw: {tempo_fim - tempo_inicio:.2f} segundos\")\n",
    "    \n",
    "    # Informações sobre a matriz gerada\n",
    "    print(f\"Dimensões da matriz de distância: {distance_matrix.shape}\")\n",
    "    print(f\"Média das distâncias: {np.mean(distance_matrix):.2f}\")\n",
    "    print(f\"Distância mínima (excluindo diagonais): {np.min(distance_matrix + np.eye(len(distance_matrix)) * np.max(distance_matrix)):.2f}\")\n",
    "    print(f\"Distância máxima: {np.max(distance_matrix):.2f}\")\n",
    "    \n",
    "    return distance_matrix\n"
   ]
  },
  {
   "cell_type": "code",
   "execution_count": 32,
   "id": "ee8639f4",
   "metadata": {},
   "outputs": [
    {
     "name": "stdout",
     "output_type": "stream",
     "text": [
      "Iniciando cálculo da matriz de distância DTW para 52 séries temporais...\n",
      "Calculando matriz de distância DTW (pode levar algum tempo)...\n",
      "Matriz de distância calculada em 2.06 segundos\n",
      "Tempo total da função calculate_dtw: 2.06 segundos\n",
      "Dimensões da matriz de distância: (52, 52)\n",
      "Média das distâncias: 9997407208585.14\n",
      "Distância mínima (excluindo diagonais): 1300999998.00\n",
      "Distância máxima: 85053928999991.00\n",
      "[[0.0000000e+00 8.0908400e+11 2.2508340e+12 ... 2.4190492e+13\n",
      "  3.7275896e+13 8.5053929e+13]\n",
      " [8.0908400e+11 0.0000000e+00 1.4417500e+12 ... 2.3381408e+13\n",
      "  3.6466812e+13 8.4244845e+13]\n",
      " [2.2508340e+12 1.4417500e+12 0.0000000e+00 ... 2.1939658e+13\n",
      "  3.5025062e+13 8.2803095e+13]\n",
      " ...\n",
      " [2.4190492e+13 2.3381408e+13 2.1939658e+13 ... 0.0000000e+00\n",
      "  1.3085404e+13 6.0863437e+13]\n",
      " [3.7275896e+13 3.6466812e+13 3.5025062e+13 ... 1.3085404e+13\n",
      "  0.0000000e+00 4.7778033e+13]\n",
      " [8.5053929e+13 8.4244845e+13 8.2803095e+13 ... 6.0863437e+13\n",
      "  4.7778033e+13 0.0000000e+00]]\n"
     ]
    }
   ],
   "source": [
    "distance_matrix_cambios = calculate_dtw(df_cambios)\n",
    "print(distance_matrix_cambios)"
   ]
  },
  {
   "cell_type": "code",
   "execution_count": 5,
   "id": "567e3957",
   "metadata": {},
   "outputs": [
    {
     "name": "stdout",
     "output_type": "stream",
     "text": [
      "Iniciando cálculo da matriz de distância DTW para 100 séries temporais...\n",
      "Convertendo dados para formato adequado: 0.00 segundos\n",
      "Calculando matriz de distância DTW (pode levar algum tempo)...\n",
      "Matriz de distância calculada em 10.12 segundos\n",
      "Tempo total da função calculate_dtw: 10.12 segundos\n",
      "Dimensões da matriz de distância: (100, 100)\n",
      "Média das distâncias: 14469597962.59\n",
      "Distância mínima (excluindo diagonais): 931012.00\n",
      "Distância máxima: 41755021083.00\n"
     ]
    },
    {
     "data": {
      "text/plain": [
       "array([[0.00000000e+00, 9.31012000e+05, 4.04064019e+08, ...,\n",
       "        4.06400501e+10, 4.16903121e+10, 4.17550211e+10],\n",
       "       [9.31012000e+05, 0.00000000e+00, 4.03133007e+08, ...,\n",
       "        4.06391191e+10, 4.16893811e+10, 4.17540901e+10],\n",
       "       [4.04064019e+08, 4.03133007e+08, 0.00000000e+00, ...,\n",
       "        4.02359860e+10, 4.12862481e+10, 4.13509571e+10],\n",
       "       ...,\n",
       "       [4.06400501e+10, 4.06391191e+10, 4.02359860e+10, ...,\n",
       "        0.00000000e+00, 1.05026204e+09, 1.11497102e+09],\n",
       "       [4.16903121e+10, 4.16893811e+10, 4.12862481e+10, ...,\n",
       "        1.05026204e+09, 0.00000000e+00, 6.47089810e+07],\n",
       "       [4.17550211e+10, 4.17540901e+10, 4.13509571e+10, ...,\n",
       "        1.11497102e+09, 6.47089810e+07, 0.00000000e+00]])"
      ]
     },
     "execution_count": 5,
     "metadata": {},
     "output_type": "execute_result"
    }
   ],
   "source": [
    "distance_matrix1 = calculate_dtw(df_100_samples)\n",
    "distance_matrix1"
   ]
  },
  {
   "cell_type": "code",
   "execution_count": 6,
   "id": "5fae1213",
   "metadata": {},
   "outputs": [
    {
     "name": "stdout",
     "output_type": "stream",
     "text": [
      "Iniciando cálculo da matriz de distância DTW para 300 séries temporais...\n",
      "Convertendo dados para formato adequado: 0.01 segundos\n",
      "Calculando matriz de distância DTW (pode levar algum tempo)...\n",
      "Matriz de distância calculada em 74.18 segundos\n",
      "Tempo total da função calculate_dtw: 74.19 segundos\n",
      "Dimensões da matriz de distância: (300, 300)\n",
      "Média das distâncias: 286744923723.99\n",
      "Distância mínima (excluindo diagonais): 81.00\n",
      "Distância máxima: 934519830994.00\n"
     ]
    },
    {
     "data": {
      "text/plain": [
       "array([[0.00000000e+00, 9.31012000e+05, 4.04064019e+08, ...,\n",
       "        9.22816831e+11, 9.24202831e+11, 9.34519831e+11],\n",
       "       [9.31012000e+05, 0.00000000e+00, 4.03133007e+08, ...,\n",
       "        9.22815900e+11, 9.24201900e+11, 9.34518900e+11],\n",
       "       [4.04064019e+08, 4.03133007e+08, 0.00000000e+00, ...,\n",
       "        9.22412767e+11, 9.23798767e+11, 9.34115767e+11],\n",
       "       ...,\n",
       "       [9.22816831e+11, 9.22815900e+11, 9.22412767e+11, ...,\n",
       "        0.00000000e+00, 1.38600004e+09, 1.17030000e+10],\n",
       "       [9.24202831e+11, 9.24201900e+11, 9.23798767e+11, ...,\n",
       "        1.38600004e+09, 0.00000000e+00, 1.03170000e+10],\n",
       "       [9.34519831e+11, 9.34518900e+11, 9.34115767e+11, ...,\n",
       "        1.17030000e+10, 1.03170000e+10, 0.00000000e+00]])"
      ]
     },
     "execution_count": 6,
     "metadata": {},
     "output_type": "execute_result"
    }
   ],
   "source": [
    "distance_matrix3 = calculate_dtw(df_300_samples)\n",
    "distance_matrix3"
   ]
  },
  {
   "cell_type": "code",
   "execution_count": 7,
   "id": "3550e2cd",
   "metadata": {},
   "outputs": [
    {
     "name": "stdout",
     "output_type": "stream",
     "text": [
      "Iniciando cálculo da matriz de distância DTW para 500 séries temporais...\n",
      "Convertendo dados para formato adequado: 0.01 segundos\n",
      "Calculando matriz de distância DTW (pode levar algum tempo)...\n",
      "Matriz de distância calculada em 194.61 segundos\n",
      "Tempo total da função calculate_dtw: 194.62 segundos\n",
      "Dimensões da matriz de distância: (500, 500)\n",
      "Média das distâncias: 816294574832.89\n",
      "Distância mínima (excluindo diagonais): 81.00\n",
      "Distância máxima: 2115174830954.00\n"
     ]
    },
    {
     "data": {
      "text/plain": [
       "array([[0.00000000e+00, 9.31012000e+05, 4.04064019e+08, ...,\n",
       "        2.09797183e+12, 2.09809083e+12, 2.11517483e+12],\n",
       "       [9.31012000e+05, 0.00000000e+00, 4.03133007e+08, ...,\n",
       "        2.09797090e+12, 2.09808990e+12, 2.11517390e+12],\n",
       "       [4.04064019e+08, 4.03133007e+08, 0.00000000e+00, ...,\n",
       "        2.09756777e+12, 2.09768677e+12, 2.11477077e+12],\n",
       "       ...,\n",
       "       [2.09797183e+12, 2.09797090e+12, 2.09756777e+12, ...,\n",
       "        0.00000000e+00, 1.18999942e+08, 1.72029999e+10],\n",
       "       [2.09809083e+12, 2.09808990e+12, 2.09768677e+12, ...,\n",
       "        1.18999942e+08, 0.00000000e+00, 1.70840000e+10],\n",
       "       [2.11517483e+12, 2.11517390e+12, 2.11477077e+12, ...,\n",
       "        1.72029999e+10, 1.70840000e+10, 0.00000000e+00]])"
      ]
     },
     "execution_count": 7,
     "metadata": {},
     "output_type": "execute_result"
    }
   ],
   "source": [
    "distance_matrix5 = calculate_dtw(df_500_samples)\n",
    "distance_matrix5"
   ]
  },
  {
   "cell_type": "code",
   "execution_count": 81,
   "id": "5dfaa080",
   "metadata": {},
   "outputs": [
    {
     "name": "stdout",
     "output_type": "stream",
     "text": [
      "Iniciando cálculo da matriz de distância DTW para 800 séries temporais...\n",
      "Calculando matriz de distância DTW (pode levar algum tempo)...\n",
      "Matriz de distância calculada em 618.40 segundos\n",
      "Tempo total da função calculate_dtw: 618.40 segundos\n",
      "Dimensões da matriz de distância: (800, 800)\n",
      "Média das distâncias: 1418964672391.78\n",
      "Distância mínima (excluindo diagonais): 81.00\n",
      "Distância máxima: 3783414830989.00\n"
     ]
    },
    {
     "data": {
      "text/plain": [
       "array([[0.00000000e+00, 9.31012000e+05, 4.04064019e+08, ...,\n",
       "        3.77214483e+12, 3.77634083e+12, 3.78341483e+12],\n",
       "       [9.31012000e+05, 0.00000000e+00, 4.03133007e+08, ...,\n",
       "        3.77214390e+12, 3.77633990e+12, 3.78341390e+12],\n",
       "       [4.04064019e+08, 4.03133007e+08, 0.00000000e+00, ...,\n",
       "        3.77174077e+12, 3.77593677e+12, 3.78301077e+12],\n",
       "       ...,\n",
       "       [3.77214483e+12, 3.77214390e+12, 3.77174077e+12, ...,\n",
       "        0.00000000e+00, 4.19599994e+09, 1.12700000e+10],\n",
       "       [3.77634083e+12, 3.77633990e+12, 3.77593677e+12, ...,\n",
       "        4.19599994e+09, 0.00000000e+00, 7.07400002e+09],\n",
       "       [3.78341483e+12, 3.78341390e+12, 3.78301077e+12, ...,\n",
       "        1.12700000e+10, 7.07400002e+09, 0.00000000e+00]])"
      ]
     },
     "execution_count": 81,
     "metadata": {},
     "output_type": "execute_result"
    }
   ],
   "source": [
    "distance_matrix8 = calculate_dtw(df_800_samples)\n",
    "distance_matrix8"
   ]
  },
  {
   "cell_type": "code",
   "execution_count": 82,
   "id": "06b6a8dd",
   "metadata": {},
   "outputs": [
    {
     "name": "stdout",
     "output_type": "stream",
     "text": [
      "Iniciando cálculo da matriz de distância DTW para 1000 séries temporais...\n",
      "Calculando matriz de distância DTW (pode levar algum tempo)...\n",
      "Matriz de distância calculada em 1024.72 segundos\n",
      "Tempo total da função calculate_dtw: 1024.72 segundos\n",
      "Dimensões da matriz de distância: (1000, 1000)\n",
      "Média das distâncias: 1779467383690.56\n",
      "Distância mínima (excluindo diagonais): 81.00\n",
      "Distância máxima: 4665537830969.00\n"
     ]
    },
    {
     "data": {
      "text/plain": [
       "array([[0.00000000e+00, 9.31012000e+05, 4.04064019e+08, ...,\n",
       "        4.66229883e+12, 4.66263383e+12, 4.66553783e+12],\n",
       "       [9.31012000e+05, 0.00000000e+00, 4.03133007e+08, ...,\n",
       "        4.66229790e+12, 4.66263290e+12, 4.66553690e+12],\n",
       "       [4.04064019e+08, 4.03133007e+08, 0.00000000e+00, ...,\n",
       "        4.66189477e+12, 4.66222977e+12, 4.66513377e+12],\n",
       "       ...,\n",
       "       [4.66229883e+12, 4.66229790e+12, 4.66189477e+12, ...,\n",
       "        0.00000000e+00, 3.35000018e+08, 3.23900000e+09],\n",
       "       [4.66263383e+12, 4.66263290e+12, 4.66222977e+12, ...,\n",
       "        3.35000018e+08, 0.00000000e+00, 2.90399999e+09],\n",
       "       [4.66553783e+12, 4.66553690e+12, 4.66513377e+12, ...,\n",
       "        3.23900000e+09, 2.90399999e+09, 0.00000000e+00]])"
      ]
     },
     "execution_count": 82,
     "metadata": {},
     "output_type": "execute_result"
    }
   ],
   "source": [
    "distance_matrix10 = calculate_dtw(df_1000_samples)\n",
    "distance_matrix10"
   ]
  },
  {
   "cell_type": "code",
   "execution_count": 83,
   "id": "1aaf8a35",
   "metadata": {},
   "outputs": [
    {
     "name": "stdout",
     "output_type": "stream",
     "text": [
      "Iniciando cálculo da matriz de distância DTW para 1500 séries temporais...\n",
      "Calculando matriz de distância DTW (pode levar algum tempo)...\n",
      "Matriz de distância calculada em 2070.10 segundos\n",
      "Tempo total da função calculate_dtw: 2070.10 segundos\n",
      "Dimensões da matriz de distância: (1500, 1500)\n",
      "Média das distâncias: 2547427585977.91\n",
      "Distância mínima (excluindo diagonais): 81.00\n",
      "Distância máxima: 7349808831021.00\n"
     ]
    },
    {
     "data": {
      "text/plain": [
       "array([[0.00000000e+00, 9.31012000e+05, 4.04064019e+08, ...,\n",
       "        4.66229883e+12, 4.66263383e+12, 4.66553783e+12],\n",
       "       [9.31012000e+05, 0.00000000e+00, 4.03133007e+08, ...,\n",
       "        4.66229790e+12, 4.66263290e+12, 4.66553690e+12],\n",
       "       [4.04064019e+08, 4.03133007e+08, 0.00000000e+00, ...,\n",
       "        4.66189477e+12, 4.66222977e+12, 4.66513377e+12],\n",
       "       ...,\n",
       "       [4.66229883e+12, 4.66229790e+12, 4.66189477e+12, ...,\n",
       "        0.00000000e+00, 3.35000018e+08, 3.23900000e+09],\n",
       "       [4.66263383e+12, 4.66263290e+12, 4.66222977e+12, ...,\n",
       "        3.35000018e+08, 0.00000000e+00, 2.90399999e+09],\n",
       "       [4.66553783e+12, 4.66553690e+12, 4.66513377e+12, ...,\n",
       "        3.23900000e+09, 2.90399999e+09, 0.00000000e+00]])"
      ]
     },
     "execution_count": 83,
     "metadata": {},
     "output_type": "execute_result"
    }
   ],
   "source": [
    "distance_matrix15 = calculate_dtw(df_1500_samples)\n",
    "distance_matrix10"
   ]
  },
  {
   "cell_type": "code",
   "execution_count": 84,
   "id": "1934364e",
   "metadata": {},
   "outputs": [],
   "source": [
    "# Saving matrices\n",
    "\n",
    "np.save('mdtw0.npy', distance_matrix_cambios)\n",
    "np.save('mdtw1.npy', distance_matrix1)\n",
    "np.save('mdtw3.npy', distance_matrix3)\n",
    "np.save('mdtw5.npy', distance_matrix5)\n",
    "np.save('mdtw8.npy', distance_matrix8)\n",
    "np.save('mdtw10.npy', distance_matrix10)\n",
    "np.save('mdtw15.npy', distance_matrix15)"
   ]
  },
  {
   "cell_type": "code",
   "execution_count": 75,
   "id": "e3425b84",
   "metadata": {},
   "outputs": [
    {
     "name": "stdout",
     "output_type": "stream",
     "text": [
      "labels 100\n",
      "[ 0  0  0  0  0  0  0  0  0  0  0  0  0  0  0  0  0  0  0  0  0  0  0  0\n",
      "  0  0  0  0  0  0  0  1  1  1  1  1  1  1  1  1  1  1  1  1  1  1  1  1\n",
      "  1  2  2  2  2  2  2  2  3  3  3  3  3  3  3  3  3  4  4  4  4  4 -1  5\n",
      "  5  5  5  5  5  5  6  6  6  6  6  6  7  7  7  7  7  7  7  7  7  8  8  8\n",
      "  8  8 -1 -1]\n",
      "Número de clusters encontrados: 9\n",
      "Número de pontos de ruído: 3\n",
      "Distribuição dos clusters: [ 3 31 18  7  9  5  7  6  9  5]\n"
     ]
    }
   ],
   "source": [
    "dbscan_object = DBSCAN(\n",
    "    eps=10**9,\n",
    "    metric=\"precomputed\",\n",
    "    min_samples=3\n",
    ")\n",
    "\n",
    "labels1 = dbscan_object.fit_predict(distance_matrix1)\n",
    "print(\"labels 100\")\n",
    "print(labels1)\n",
    "\n",
    "# Analisando resultados\n",
    "n_clusters = len(set(labels1)) - (1 if -1 in labels1 else 0)\n",
    "n_noise = list(labels1).count(-1)\n",
    "print(f\"Número de clusters encontrados: {n_clusters}\")\n",
    "print(f\"Número de pontos de ruído: {n_noise}\")\n",
    "print(f\"Distribuição dos clusters: {np.bincount(labels1 + 1)}\")"
   ]
  },
  {
   "cell_type": "code",
   "execution_count": 78,
   "id": "a1d49812",
   "metadata": {},
   "outputs": [
    {
     "name": "stdout",
     "output_type": "stream",
     "text": [
      "labels 300\n",
      "[ 0  0  0  0  0  0  0  0  0  0  0  0  0  0  0  0  0  0  0  0  0  0  0  0\n",
      "  0  0  0  0  0  0  0  1  1  1  1  1  1  1  1  1  1  1  1  1  1  1  1  1\n",
      "  1  2  2  2  2  2  2  2  3  3  3  3  3  3  3  3  3  4  4  4  4  4 -1  5\n",
      "  5  5  5  5  5  5  6  6  6  6  6  6  7  7  7  7  7  7  7  7  7  8  8  8\n",
      "  8  8  9  9  9  9 10 10 10 -1 11 11 11 11 11 -1 12 12 12 12 12 12 -1 -1\n",
      " -1 13 13 13 13 14 14 14 14 14 14 14 14 15 15 15 15 15 15 15 15 15 15 15\n",
      " 15 15 15 15 15 15 15 16 16 16 16 16 -1 -1 17 17 17 17 17 18 18 18 18 19\n",
      " 19 19 -1 -1 -1 -1 -1 -1 20 20 20 -1 -1 -1 -1 -1 -1 -1 -1 -1 -1 -1 -1 -1\n",
      " -1 -1 -1 -1 -1 -1 -1 -1 -1 -1 -1 -1 -1 -1 -1 -1 -1 -1 -1 -1 -1 -1 -1 -1\n",
      " -1 -1 -1 -1 -1 -1 -1 -1 -1 -1 -1 -1 -1 -1 -1 -1 -1 -1 -1 -1 -1 -1 -1 -1\n",
      " -1 -1 -1 -1 -1 -1 -1 -1 -1 -1 -1 -1 21 21 21 -1 -1 -1 -1 -1 -1 -1 -1 -1\n",
      " -1 -1 -1 -1 -1 -1 -1 -1 -1 -1 -1 -1 -1 -1 -1 -1 -1 -1 -1 -1 -1 -1 -1 22\n",
      " 22 22 -1 -1 -1 -1 -1 -1 -1 -1 -1 -1]\n",
      "Número de clusters encontrados: 23\n",
      "Número de pontos de ruído: 129\n",
      "Distribuição dos clusters: [129  31  18   7   9   5   7   6   9   5   4   3   5   6   4   8  18   5\n",
      "   5   4   3   3   3   3]\n"
     ]
    }
   ],
   "source": [
    "dbscan_object = DBSCAN(\n",
    "    eps=10**9 ,\n",
    "    metric=\"precomputed\",\n",
    "    min_samples=3\n",
    ")\n",
    "\n",
    "labels3 = dbscan_object.fit_predict(distance_matrix3)\n",
    "print(\"labels 300\")\n",
    "print(labels3)\n",
    "\n",
    "# Analisando resultados\n",
    "n_clusters = len(set(labels3)) - (1 if -1 in labels3 else 0)\n",
    "n_noise = list(labels3).count(-1)\n",
    "print(f\"Número de clusters encontrados: {n_clusters}\")\n",
    "print(f\"Número de pontos de ruído: {n_noise}\")\n",
    "print(f\"Distribuição dos clusters: {np.bincount(labels3 + 1)}\")"
   ]
  },
  {
   "cell_type": "code",
   "execution_count": 80,
   "id": "47b61a4d",
   "metadata": {},
   "outputs": [
    {
     "name": "stdout",
     "output_type": "stream",
     "text": [
      "labels 500\n",
      "[ 0  0  0  0  0  0  0  0  0  0  0  0  0  0  0  0  0  0  0  0  0  0  0  0\n",
      "  0  0  0  0  0  0  0  0  0  0  0  0  0  0  0  0  0  0  0  0  0  0  0  0\n",
      "  0  0  0  0  0  0  0  0  0  0  0  0  0  0  0  0  0  0  0  0  0  0  0  0\n",
      "  0  0  0  0  0  0  0  0  0  0  0  0  0  0  0  0  0  0  0  0  0  0  0  0\n",
      "  0  0  0  0  0  0  0  0  0  0  0  0  0  0  0  0  0  0  0  0  0  0  0  0\n",
      "  0  0  0  0  0  0  0  0  0  0  0  0  0  0  0  0  0  0  0  0  0  0  0  0\n",
      "  0  0  0  0  0  0  0  0  0  0  0  0  0  0  0  0  0  0  0  0  0  0  0  0\n",
      "  0  0  0  0  0  0  0  0  0  0  0  1  1  1  1  1  1  2  2  2  3  3  3  3\n",
      "  3  3  3  3  3  3  3  3  3  4  4  4  5  5  5  6  6  6  6  6  6 -1 -1 -1\n",
      " -1 -1  7  7  7  7  7  7  7  7  7  7  7  7  8  8  8  8  8  8  8 -1 -1  9\n",
      "  9  9  9 10 10 10 10 10 10 11 11 11 11 11 11 11 11 11 11 -1 12 12 12 12\n",
      " 12 12 12 12 12 12 12 12 12 12 -1 -1 -1 -1 13 13 13 13 13 14 14 14 14 14\n",
      " 14 14 14 14 14 14 -1 15 15 15 15 -1 16 16 16 16 16 16 16 16 16 16 17 17\n",
      " 17 18 18 18 18 18 18 18 18 18 19 19 19 19 20 20 20 -1 -1 21 21 21 -1 -1\n",
      " 22 22 22 22 22 23 23 23 23 23 23 23 23 23 23 24 24 24 24 25 25 25 25 25\n",
      " 25 25 25 26 26 26 26 26 -1 -1 27 27 27 27 27 28 28 28 28 28 28 28 28 29\n",
      " 29 29 29 29 29 29 29 29 29 29 29 29 29 29 29 30 30 30 30 30 30 31 31 31\n",
      " 31 31 31 31 31 32 32 32 33 33 33 33 33 33 33 -1 -1 -1 -1 34 34 34 34 34\n",
      " -1 -1 35 35 35 36 36 36 36 -1 37 37 37 37 37 37 37 37 37 37 37 37 37 37\n",
      " 37 37 37 37 37 37 38 38 38 38 38 38 38 38 38 39 39 39 39 39 40 40 40 41\n",
      " 41 41 41 41 41 42 42 42 42 42 42 42 42 42 42 42 42 42 42 -1]\n",
      "Número de clusters encontrados: 43\n",
      "Número de pontos de ruído: 28\n",
      "Distribuição dos clusters: [ 28 179   6   3  13   3   3   6  12   7   4   6  10  14   5  11   4  10\n",
      "   3   9   4   3   3   5  10   4   8   5   5   8  16   6   8   3   7   5\n",
      "   3   4  20   9   5   3   6  14]\n"
     ]
    }
   ],
   "source": [
    "dbscan_object = DBSCAN(\n",
    "    eps=10**10,\n",
    "    metric=\"precomputed\",\n",
    "    min_samples=3\n",
    ")\n",
    "\n",
    "labels5 = dbscan_object.fit_predict(distance_matrix5)\n",
    "print(\"labels 500\")\n",
    "print(labels5)\n",
    "\n",
    "# Analisando resultados\n",
    "n_clusters = len(set(labels5)) - (1 if -1 in labels5 else 0)\n",
    "n_noise = list(labels5).count(-1)\n",
    "print(f\"Número de clusters encontrados: {n_clusters}\")\n",
    "print(f\"Número de pontos de ruído: {n_noise}\")\n",
    "print(f\"Distribuição dos clusters: {np.bincount(labels5 + 1)}\")"
   ]
  },
  {
   "cell_type": "code",
   "execution_count": 85,
   "id": "a2b0d813",
   "metadata": {},
   "outputs": [
    {
     "name": "stdout",
     "output_type": "stream",
     "text": [
      "Número de clusters encontrados: 84\n",
      "Número de pontos de ruído: 47\n",
      "Distribuição dos clusters: [ 47 179   6   3  13   3   3   6  12   7   4   6  10  14   5  11   4  10\n",
      "   3   9   4   3   3   5  10   4   8   5   5   8  16   6   8   3   7   5\n",
      "   3   4  20   9   5   3   6  14   8  10   5  11   3   5   6  15  15   9\n",
      "   5  11   3   4   4   8   3   5   3   4   3   7   6  10   6   5  12  13\n",
      "   4   3   4   3   4  12  11   7   5   3  15   3   8]\n"
     ]
    }
   ],
   "source": [
    "dbscan_object = DBSCAN(\n",
    "    eps=10**10,\n",
    "    metric=\"precomputed\",\n",
    "    min_samples=3\n",
    ")\n",
    "\n",
    "labels8 = dbscan_object.fit_predict(distance_matrix8)\n",
    "# print(\"labels 800\")\n",
    "# print(labels8)\n",
    "\n",
    "# Analisando resultados\n",
    "n_clusters = len(set(labels8)) - (1 if -1 in labels8 else 0)\n",
    "n_noise = list(labels8).count(-1)\n",
    "print(f\"Número de clusters encontrados: {n_clusters}\")\n",
    "print(f\"Número de pontos de ruído: {n_noise}\")\n",
    "print(f\"Distribuição dos clusters: {np.bincount(labels8 + 1)}\")"
   ]
  }
 ],
 "metadata": {
  "kernelspec": {
   "display_name": "venv",
   "language": "python",
   "name": "python3"
  },
  "language_info": {
   "codemirror_mode": {
    "name": "ipython",
    "version": 3
   },
   "file_extension": ".py",
   "mimetype": "text/x-python",
   "name": "python",
   "nbconvert_exporter": "python",
   "pygments_lexer": "ipython3",
   "version": "3.12.3"
  }
 },
 "nbformat": 4,
 "nbformat_minor": 5
}
