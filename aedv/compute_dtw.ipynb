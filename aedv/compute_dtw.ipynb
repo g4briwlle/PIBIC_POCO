{
 "cells": [
  {
   "cell_type": "code",
   "execution_count": 2,
   "id": "ad623012",
   "metadata": {},
   "outputs": [
    {
     "name": "stderr",
     "output_type": "stream",
     "text": [
      "c:\\PIBIC POCO\\venv\\Lib\\site-packages\\tslearn\\bases\\bases.py:15: UserWarning: h5py not installed, hdf5 features will not be supported.\n",
      "Install h5py to use hdf5 features: http://docs.h5py.org/\n",
      "  warn(h5py_msg)\n"
     ]
    }
   ],
   "source": [
    "\"\"\" Módulo do cálculo do fast DTW\n",
    "03\n",
    "\n",
    "\"\"\"\n",
    "\n",
    "import time\n",
    "from tqdm import tqdm\n",
    "from fastdtw import fastdtw\n",
    "from scipy.spatial.distance import euclidean\n",
    "from tslearn.metrics import cdist_dtw\n",
    "from sklearn.cluster import DBSCAN\n",
    "import pandas as pd\n",
    "import numpy as np\n",
    "import reading_data"
   ]
  },
  {
   "cell_type": "code",
   "execution_count": 4,
   "id": "3ef8d073",
   "metadata": {},
   "outputs": [],
   "source": [
    "# Getting whole data, 4500 emps\n",
    "df_time_s_entrada = pd.read_csv(reading_data.df_time_s_entrada)\n",
    "df_time_s_entrada[\"Empresa\"] = df_time_s_entrada[\"Empresa\"].astype(str)\n",
    "\n",
    "segundo_df_time_s_entrada = pd.read_csv(reading_data.segundo_df_time_s_entrada)\n",
    "segundo_df_time_s_entrada[\"Empresa\"] = segundo_df_time_s_entrada[\"Empresa\"].astype(str)"
   ]
  },
  {
   "cell_type": "code",
   "execution_count": 5,
   "id": "91a8d7b4",
   "metadata": {},
   "outputs": [],
   "source": [
    "# Usando o df de emps que trocaram de nome ao longo dos 11 anos (55 emps)\n",
    "df_hist_cambios = pd.read_csv(reading_data.historial_cambios_me_epp_solo)\n",
    "emps_suspicious = df_hist_cambios[[\"CPF_CNPJ_Rem\"]].rename(columns = {\"CPF_CNPJ_Rem\": \"Empresa\"}).astype(str)\n",
    "\n",
    "df_cambios = segundo_df_time_s_entrada[segundo_df_time_s_entrada['Empresa'].isin(emps_suspicious['Empresa'])]\n",
    "# df_cambios   52 rows × 366 columns"
   ]
  },
  {
   "cell_type": "code",
   "execution_count": 14,
   "id": "67b1acf7",
   "metadata": {},
   "outputs": [],
   "source": [
    "# 100 samples\n",
    "df_100_samples = segundo_df_time_s_entrada[:100]\n",
    "\n",
    "# 300\n",
    "df_300_samples = segundo_df_time_s_entrada[:300]\n",
    "\n",
    "# 500\n",
    "df_500_samples = segundo_df_time_s_entrada[:500]\n",
    "\n",
    "df_800_samples = segundo_df_time_s_entrada[:800]\n",
    "\n",
    "df_1000_samples= segundo_df_time_s_entrada[:1000]\n",
    "\n",
    "df_1500_samples= segundo_df_time_s_entrada[:1500]"
   ]
  },
  {
   "cell_type": "code",
   "execution_count": 15,
   "id": "45b31baa",
   "metadata": {},
   "outputs": [],
   "source": [
    "def calculate_dtw(time_series_passed: pd.DataFrame, n_jobs=1):\n",
    "    \"\"\"Calcula a matriz de distância DTW entre séries temporais.\n",
    "    \n",
    "    Parameters\n",
    "    ----------\n",
    "    time_series_passed : pd.DataFrame\n",
    "        DataFrame com séries temporais onde cada linha é uma série\n",
    "        \n",
    "    Returns\n",
    "    -------\n",
    "    numpy.ndarray\n",
    "        Matriz de distância DTW entre todas as séries\n",
    "    \"\"\"\n",
    "\n",
    "    print(f\"Iniciando cálculo da matriz de distância DTW para {time_series_passed.shape[0]} séries temporais...\")\n",
    "    tempo_inicio = time.time()\n",
    "    \n",
    "    # calculating cross similarity matrix com barra de progresso\n",
    "    print(\"Calculando matriz de distância DTW (pode levar algum tempo)...\")\n",
    "    tempo_calculo = time.time()\n",
    "    distance_matrix = cdist_dtw(time_series_passed, n_jobs=n_jobs)\n",
    "    tempo_fim = time.time()\n",
    "    \n",
    "    print(f\"Matriz de distância calculada em {tempo_fim - tempo_calculo:.2f} segundos\")\n",
    "    print(f\"Tempo total da função calculate_dtw: {tempo_fim - tempo_inicio:.2f} segundos\")\n",
    "    \n",
    "    # Informações sobre a matriz gerada\n",
    "    print(f\"Dimensões da matriz de distância: {distance_matrix.shape}\")\n",
    "    print(f\"Média das distâncias: {np.mean(distance_matrix):.2f}\")\n",
    "    print(f\"Distância mínima (excluindo diagonais): {np.min(distance_matrix + np.eye(len(distance_matrix)) * np.max(distance_matrix)):.2f}\")\n",
    "    print(f\"Distância máxima: {np.max(distance_matrix):.2f}\")\n",
    "    \n",
    "    return distance_matrix\n"
   ]
  },
  {
   "cell_type": "code",
   "execution_count": 32,
   "id": "ee8639f4",
   "metadata": {},
   "outputs": [
    {
     "name": "stdout",
     "output_type": "stream",
     "text": [
      "Iniciando cálculo da matriz de distância DTW para 52 séries temporais...\n",
      "Calculando matriz de distância DTW (pode levar algum tempo)...\n",
      "Matriz de distância calculada em 2.06 segundos\n",
      "Tempo total da função calculate_dtw: 2.06 segundos\n",
      "Dimensões da matriz de distância: (52, 52)\n",
      "Média das distâncias: 9997407208585.14\n",
      "Distância mínima (excluindo diagonais): 1300999998.00\n",
      "Distância máxima: 85053928999991.00\n",
      "[[0.0000000e+00 8.0908400e+11 2.2508340e+12 ... 2.4190492e+13\n",
      "  3.7275896e+13 8.5053929e+13]\n",
      " [8.0908400e+11 0.0000000e+00 1.4417500e+12 ... 2.3381408e+13\n",
      "  3.6466812e+13 8.4244845e+13]\n",
      " [2.2508340e+12 1.4417500e+12 0.0000000e+00 ... 2.1939658e+13\n",
      "  3.5025062e+13 8.2803095e+13]\n",
      " ...\n",
      " [2.4190492e+13 2.3381408e+13 2.1939658e+13 ... 0.0000000e+00\n",
      "  1.3085404e+13 6.0863437e+13]\n",
      " [3.7275896e+13 3.6466812e+13 3.5025062e+13 ... 1.3085404e+13\n",
      "  0.0000000e+00 4.7778033e+13]\n",
      " [8.5053929e+13 8.4244845e+13 8.2803095e+13 ... 6.0863437e+13\n",
      "  4.7778033e+13 0.0000000e+00]]\n"
     ]
    }
   ],
   "source": [
    "distance_matrix_cambios = calculate_dtw(df_cambios)\n",
    "print(distance_matrix_cambios)"
   ]
  },
  {
   "cell_type": "code",
   "execution_count": 5,
   "id": "567e3957",
   "metadata": {},
   "outputs": [
    {
     "name": "stdout",
     "output_type": "stream",
     "text": [
      "Iniciando cálculo da matriz de distância DTW para 100 séries temporais...\n",
      "Convertendo dados para formato adequado: 0.00 segundos\n",
      "Calculando matriz de distância DTW (pode levar algum tempo)...\n",
      "Matriz de distância calculada em 10.12 segundos\n",
      "Tempo total da função calculate_dtw: 10.12 segundos\n",
      "Dimensões da matriz de distância: (100, 100)\n",
      "Média das distâncias: 14469597962.59\n",
      "Distância mínima (excluindo diagonais): 931012.00\n",
      "Distância máxima: 41755021083.00\n"
     ]
    },
    {
     "data": {
      "text/plain": [
       "array([[0.00000000e+00, 9.31012000e+05, 4.04064019e+08, ...,\n",
       "        4.06400501e+10, 4.16903121e+10, 4.17550211e+10],\n",
       "       [9.31012000e+05, 0.00000000e+00, 4.03133007e+08, ...,\n",
       "        4.06391191e+10, 4.16893811e+10, 4.17540901e+10],\n",
       "       [4.04064019e+08, 4.03133007e+08, 0.00000000e+00, ...,\n",
       "        4.02359860e+10, 4.12862481e+10, 4.13509571e+10],\n",
       "       ...,\n",
       "       [4.06400501e+10, 4.06391191e+10, 4.02359860e+10, ...,\n",
       "        0.00000000e+00, 1.05026204e+09, 1.11497102e+09],\n",
       "       [4.16903121e+10, 4.16893811e+10, 4.12862481e+10, ...,\n",
       "        1.05026204e+09, 0.00000000e+00, 6.47089810e+07],\n",
       "       [4.17550211e+10, 4.17540901e+10, 4.13509571e+10, ...,\n",
       "        1.11497102e+09, 6.47089810e+07, 0.00000000e+00]])"
      ]
     },
     "execution_count": 5,
     "metadata": {},
     "output_type": "execute_result"
    }
   ],
   "source": [
    "distance_matrix1 = calculate_dtw(df_100_samples)\n",
    "distance_matrix1"
   ]
  },
  {
   "cell_type": "code",
   "execution_count": 6,
   "id": "5fae1213",
   "metadata": {},
   "outputs": [
    {
     "name": "stdout",
     "output_type": "stream",
     "text": [
      "Iniciando cálculo da matriz de distância DTW para 300 séries temporais...\n",
      "Convertendo dados para formato adequado: 0.01 segundos\n",
      "Calculando matriz de distância DTW (pode levar algum tempo)...\n",
      "Matriz de distância calculada em 74.18 segundos\n",
      "Tempo total da função calculate_dtw: 74.19 segundos\n",
      "Dimensões da matriz de distância: (300, 300)\n",
      "Média das distâncias: 286744923723.99\n",
      "Distância mínima (excluindo diagonais): 81.00\n",
      "Distância máxima: 934519830994.00\n"
     ]
    },
    {
     "data": {
      "text/plain": [
       "array([[0.00000000e+00, 9.31012000e+05, 4.04064019e+08, ...,\n",
       "        9.22816831e+11, 9.24202831e+11, 9.34519831e+11],\n",
       "       [9.31012000e+05, 0.00000000e+00, 4.03133007e+08, ...,\n",
       "        9.22815900e+11, 9.24201900e+11, 9.34518900e+11],\n",
       "       [4.04064019e+08, 4.03133007e+08, 0.00000000e+00, ...,\n",
       "        9.22412767e+11, 9.23798767e+11, 9.34115767e+11],\n",
       "       ...,\n",
       "       [9.22816831e+11, 9.22815900e+11, 9.22412767e+11, ...,\n",
       "        0.00000000e+00, 1.38600004e+09, 1.17030000e+10],\n",
       "       [9.24202831e+11, 9.24201900e+11, 9.23798767e+11, ...,\n",
       "        1.38600004e+09, 0.00000000e+00, 1.03170000e+10],\n",
       "       [9.34519831e+11, 9.34518900e+11, 9.34115767e+11, ...,\n",
       "        1.17030000e+10, 1.03170000e+10, 0.00000000e+00]])"
      ]
     },
     "execution_count": 6,
     "metadata": {},
     "output_type": "execute_result"
    }
   ],
   "source": [
    "distance_matrix3 = calculate_dtw(df_300_samples)\n",
    "distance_matrix3"
   ]
  },
  {
   "cell_type": "code",
   "execution_count": 16,
   "id": "3550e2cd",
   "metadata": {},
   "outputs": [
    {
     "name": "stdout",
     "output_type": "stream",
     "text": [
      "Iniciando cálculo da matriz de distância DTW para 500 séries temporais...\n",
      "Calculando matriz de distância DTW (pode levar algum tempo)...\n",
      "Matriz de distância calculada em 195.26 segundos\n",
      "Tempo total da função calculate_dtw: 195.26 segundos\n",
      "Dimensões da matriz de distância: (500, 500)\n",
      "Média das distâncias: 816294574832.89\n",
      "Distância mínima (excluindo diagonais): 81.00\n",
      "Distância máxima: 2115174830954.00\n"
     ]
    },
    {
     "data": {
      "text/plain": [
       "array([[0.00000000e+00, 9.31012000e+05, 4.04064019e+08, ...,\n",
       "        2.09797183e+12, 2.09809083e+12, 2.11517483e+12],\n",
       "       [9.31012000e+05, 0.00000000e+00, 4.03133007e+08, ...,\n",
       "        2.09797090e+12, 2.09808990e+12, 2.11517390e+12],\n",
       "       [4.04064019e+08, 4.03133007e+08, 0.00000000e+00, ...,\n",
       "        2.09756777e+12, 2.09768677e+12, 2.11477077e+12],\n",
       "       ...,\n",
       "       [2.09797183e+12, 2.09797090e+12, 2.09756777e+12, ...,\n",
       "        0.00000000e+00, 1.18999942e+08, 1.72029999e+10],\n",
       "       [2.09809083e+12, 2.09808990e+12, 2.09768677e+12, ...,\n",
       "        1.18999942e+08, 0.00000000e+00, 1.70840000e+10],\n",
       "       [2.11517483e+12, 2.11517390e+12, 2.11477077e+12, ...,\n",
       "        1.72029999e+10, 1.70840000e+10, 0.00000000e+00]])"
      ]
     },
     "execution_count": 16,
     "metadata": {},
     "output_type": "execute_result"
    }
   ],
   "source": [
    "distance_matrix5 = calculate_dtw(df_500_samples)\n",
    "distance_matrix5"
   ]
  },
  {
   "cell_type": "code",
   "execution_count": 81,
   "id": "5dfaa080",
   "metadata": {},
   "outputs": [
    {
     "name": "stdout",
     "output_type": "stream",
     "text": [
      "Iniciando cálculo da matriz de distância DTW para 800 séries temporais...\n",
      "Calculando matriz de distância DTW (pode levar algum tempo)...\n",
      "Matriz de distância calculada em 618.40 segundos\n",
      "Tempo total da função calculate_dtw: 618.40 segundos\n",
      "Dimensões da matriz de distância: (800, 800)\n",
      "Média das distâncias: 1418964672391.78\n",
      "Distância mínima (excluindo diagonais): 81.00\n",
      "Distância máxima: 3783414830989.00\n"
     ]
    },
    {
     "data": {
      "text/plain": [
       "array([[0.00000000e+00, 9.31012000e+05, 4.04064019e+08, ...,\n",
       "        3.77214483e+12, 3.77634083e+12, 3.78341483e+12],\n",
       "       [9.31012000e+05, 0.00000000e+00, 4.03133007e+08, ...,\n",
       "        3.77214390e+12, 3.77633990e+12, 3.78341390e+12],\n",
       "       [4.04064019e+08, 4.03133007e+08, 0.00000000e+00, ...,\n",
       "        3.77174077e+12, 3.77593677e+12, 3.78301077e+12],\n",
       "       ...,\n",
       "       [3.77214483e+12, 3.77214390e+12, 3.77174077e+12, ...,\n",
       "        0.00000000e+00, 4.19599994e+09, 1.12700000e+10],\n",
       "       [3.77634083e+12, 3.77633990e+12, 3.77593677e+12, ...,\n",
       "        4.19599994e+09, 0.00000000e+00, 7.07400002e+09],\n",
       "       [3.78341483e+12, 3.78341390e+12, 3.78301077e+12, ...,\n",
       "        1.12700000e+10, 7.07400002e+09, 0.00000000e+00]])"
      ]
     },
     "execution_count": 81,
     "metadata": {},
     "output_type": "execute_result"
    }
   ],
   "source": [
    "distance_matrix8 = calculate_dtw(df_800_samples)\n",
    "distance_matrix8"
   ]
  },
  {
   "cell_type": "code",
   "execution_count": 11,
   "id": "1820d82d",
   "metadata": {},
   "outputs": [
    {
     "name": "stdout",
     "output_type": "stream",
     "text": [
      "Iniciando cálculo da matriz de distância DTW para 800 séries temporais...\n",
      "Calculando matriz de distância DTW (pode levar algum tempo)...\n",
      "Matriz de distância calculada em 145.45 segundos\n",
      "Tempo total da função calculate_dtw: 145.45 segundos\n",
      "Dimensões da matriz de distância: (800, 800)\n",
      "Média das distâncias: 1418964672391.78\n",
      "Distância mínima (excluindo diagonais): 81.00\n",
      "Distância máxima: 3783414830989.00\n"
     ]
    },
    {
     "data": {
      "text/plain": [
       "array([[0.00000000e+00, 9.31012000e+05, 4.04064019e+08, ...,\n",
       "        3.77214483e+12, 3.77634083e+12, 3.78341483e+12],\n",
       "       [9.31012000e+05, 0.00000000e+00, 4.03133007e+08, ...,\n",
       "        3.77214390e+12, 3.77633990e+12, 3.78341390e+12],\n",
       "       [4.04064019e+08, 4.03133007e+08, 0.00000000e+00, ...,\n",
       "        3.77174077e+12, 3.77593677e+12, 3.78301077e+12],\n",
       "       ...,\n",
       "       [3.77214483e+12, 3.77214390e+12, 3.77174077e+12, ...,\n",
       "        0.00000000e+00, 4.19599994e+09, 1.12700000e+10],\n",
       "       [3.77634083e+12, 3.77633990e+12, 3.77593677e+12, ...,\n",
       "        4.19599994e+09, 0.00000000e+00, 7.07400002e+09],\n",
       "       [3.78341483e+12, 3.78341390e+12, 3.78301077e+12, ...,\n",
       "        1.12700000e+10, 7.07400002e+09, 0.00000000e+00]])"
      ]
     },
     "execution_count": 11,
     "metadata": {},
     "output_type": "execute_result"
    }
   ],
   "source": [
    "distance_matrix8_2 = calculate_dtw(df_800_samples, n_jobs=8)\n",
    "\n",
    "distance_matrix8_2"
   ]
  },
  {
   "cell_type": "code",
   "execution_count": 82,
   "id": "06b6a8dd",
   "metadata": {},
   "outputs": [
    {
     "name": "stdout",
     "output_type": "stream",
     "text": [
      "Iniciando cálculo da matriz de distância DTW para 1000 séries temporais...\n",
      "Calculando matriz de distância DTW (pode levar algum tempo)...\n",
      "Matriz de distância calculada em 1024.72 segundos\n",
      "Tempo total da função calculate_dtw: 1024.72 segundos\n",
      "Dimensões da matriz de distância: (1000, 1000)\n",
      "Média das distâncias: 1779467383690.56\n",
      "Distância mínima (excluindo diagonais): 81.00\n",
      "Distância máxima: 4665537830969.00\n"
     ]
    },
    {
     "data": {
      "text/plain": [
       "array([[0.00000000e+00, 9.31012000e+05, 4.04064019e+08, ...,\n",
       "        4.66229883e+12, 4.66263383e+12, 4.66553783e+12],\n",
       "       [9.31012000e+05, 0.00000000e+00, 4.03133007e+08, ...,\n",
       "        4.66229790e+12, 4.66263290e+12, 4.66553690e+12],\n",
       "       [4.04064019e+08, 4.03133007e+08, 0.00000000e+00, ...,\n",
       "        4.66189477e+12, 4.66222977e+12, 4.66513377e+12],\n",
       "       ...,\n",
       "       [4.66229883e+12, 4.66229790e+12, 4.66189477e+12, ...,\n",
       "        0.00000000e+00, 3.35000018e+08, 3.23900000e+09],\n",
       "       [4.66263383e+12, 4.66263290e+12, 4.66222977e+12, ...,\n",
       "        3.35000018e+08, 0.00000000e+00, 2.90399999e+09],\n",
       "       [4.66553783e+12, 4.66553690e+12, 4.66513377e+12, ...,\n",
       "        3.23900000e+09, 2.90399999e+09, 0.00000000e+00]])"
      ]
     },
     "execution_count": 82,
     "metadata": {},
     "output_type": "execute_result"
    }
   ],
   "source": [
    "distance_matrix10 = calculate_dtw(df_1000_samples)\n",
    "distance_matrix10"
   ]
  },
  {
   "cell_type": "code",
   "execution_count": 12,
   "id": "1aaf8a35",
   "metadata": {},
   "outputs": [
    {
     "name": "stdout",
     "output_type": "stream",
     "text": [
      "Iniciando cálculo da matriz de distância DTW para 1500 séries temporais...\n",
      "Calculando matriz de distância DTW (pode levar algum tempo)...\n",
      "Matriz de distância calculada em 547.31 segundos\n",
      "Tempo total da função calculate_dtw: 547.31 segundos\n",
      "Dimensões da matriz de distância: (1500, 1500)\n",
      "Média das distâncias: 2547427585977.91\n",
      "Distância mínima (excluindo diagonais): 81.00\n",
      "Distância máxima: 7349808831021.00\n"
     ]
    },
    {
     "data": {
      "text/plain": [
       "array([[0.00000000e+00, 9.31012000e+05, 4.04064019e+08, ...,\n",
       "        7.34774583e+12, 7.34832683e+12, 7.34980883e+12],\n",
       "       [9.31012000e+05, 0.00000000e+00, 4.03133007e+08, ...,\n",
       "        7.34774490e+12, 7.34832590e+12, 7.34980790e+12],\n",
       "       [4.04064019e+08, 4.03133007e+08, 0.00000000e+00, ...,\n",
       "        7.34734177e+12, 7.34792277e+12, 7.34940477e+12],\n",
       "       ...,\n",
       "       [7.34774583e+12, 7.34774490e+12, 7.34734177e+12, ...,\n",
       "        0.00000000e+00, 5.80999952e+08, 2.06299997e+09],\n",
       "       [7.34832683e+12, 7.34832590e+12, 7.34792277e+12, ...,\n",
       "        5.80999952e+08, 0.00000000e+00, 1.48200002e+09],\n",
       "       [7.34980883e+12, 7.34980790e+12, 7.34940477e+12, ...,\n",
       "        2.06299997e+09, 1.48200002e+09, 0.00000000e+00]])"
      ]
     },
     "execution_count": 12,
     "metadata": {},
     "output_type": "execute_result"
    }
   ],
   "source": [
    "distance_matrix15 = calculate_dtw(df_1500_samples, n_jobs=8)\n",
    "distance_matrix15"
   ]
  },
  {
   "cell_type": "code",
   "execution_count": 14,
   "id": "9c99aa25",
   "metadata": {},
   "outputs": [
    {
     "name": "stdout",
     "output_type": "stream",
     "text": [
      "Iniciando cálculo da matriz de distância DTW para 4501 séries temporais...\n",
      "Calculando matriz de distância DTW (pode levar algum tempo)...\n"
     ]
    },
    {
     "ename": "KeyboardInterrupt",
     "evalue": "",
     "output_type": "error",
     "traceback": [
      "\u001b[1;31m---------------------------------------------------------------------------\u001b[0m",
      "\u001b[1;31mKeyboardInterrupt\u001b[0m                         Traceback (most recent call last)",
      "Cell \u001b[1;32mIn[14], line 1\u001b[0m\n\u001b[1;32m----> 1\u001b[0m distance_matrix_all \u001b[38;5;241m=\u001b[39m \u001b[43mcalculate_dtw\u001b[49m\u001b[43m(\u001b[49m\u001b[43msegundo_df_time_s_entrada\u001b[49m\u001b[43m,\u001b[49m\u001b[43m \u001b[49m\u001b[43mn_jobs\u001b[49m\u001b[38;5;241;43m=\u001b[39;49m\u001b[38;5;241;43m8\u001b[39;49m\u001b[43m)\u001b[49m\n\u001b[0;32m      2\u001b[0m np\u001b[38;5;241m.\u001b[39msave(\u001b[38;5;124m'\u001b[39m\u001b[38;5;124mmdtw_all.npy\u001b[39m\u001b[38;5;124m'\u001b[39m, distance_matrix_all)\n\u001b[0;32m      3\u001b[0m distance_matrix_all\n",
      "Cell \u001b[1;32mIn[10], line 21\u001b[0m, in \u001b[0;36mcalculate_dtw\u001b[1;34m(time_series_passed, n_jobs)\u001b[0m\n\u001b[0;32m     19\u001b[0m \u001b[38;5;28mprint\u001b[39m(\u001b[38;5;124m\"\u001b[39m\u001b[38;5;124mCalculando matriz de distância DTW (pode levar algum tempo)...\u001b[39m\u001b[38;5;124m\"\u001b[39m)\n\u001b[0;32m     20\u001b[0m tempo_calculo \u001b[38;5;241m=\u001b[39m time\u001b[38;5;241m.\u001b[39mtime()\n\u001b[1;32m---> 21\u001b[0m distance_matrix \u001b[38;5;241m=\u001b[39m \u001b[43mcdist_dtw\u001b[49m\u001b[43m(\u001b[49m\u001b[43mtime_series_passed\u001b[49m\u001b[43m,\u001b[49m\u001b[43m \u001b[49m\u001b[43mn_jobs\u001b[49m\u001b[38;5;241;43m=\u001b[39;49m\u001b[43mn_jobs\u001b[49m\u001b[43m)\u001b[49m\n\u001b[0;32m     22\u001b[0m tempo_fim \u001b[38;5;241m=\u001b[39m time\u001b[38;5;241m.\u001b[39mtime()\n\u001b[0;32m     24\u001b[0m \u001b[38;5;28mprint\u001b[39m(\u001b[38;5;124mf\u001b[39m\u001b[38;5;124m\"\u001b[39m\u001b[38;5;124mMatriz de distância calculada em \u001b[39m\u001b[38;5;132;01m{\u001b[39;00mtempo_fim\u001b[38;5;250m \u001b[39m\u001b[38;5;241m-\u001b[39m\u001b[38;5;250m \u001b[39mtempo_calculo\u001b[38;5;132;01m:\u001b[39;00m\u001b[38;5;124m.2f\u001b[39m\u001b[38;5;132;01m}\u001b[39;00m\u001b[38;5;124m segundos\u001b[39m\u001b[38;5;124m\"\u001b[39m)\n",
      "File \u001b[1;32mc:\\PIBIC POCO\\venv\\Lib\\site-packages\\tslearn\\metrics\\dtw_variants.py:1934\u001b[0m, in \u001b[0;36mcdist_dtw\u001b[1;34m(dataset1, dataset2, global_constraint, sakoe_chiba_radius, itakura_max_slope, n_jobs, verbose, be)\u001b[0m\n\u001b[0;32m   1833\u001b[0m \u001b[38;5;250m\u001b[39m\u001b[38;5;124mr\u001b[39m\u001b[38;5;124;03m\"\"\"Compute cross-similarity matrix using Dynamic Time Warping (DTW)\u001b[39;00m\n\u001b[0;32m   1834\u001b[0m \u001b[38;5;124;03msimilarity measure.\u001b[39;00m\n\u001b[0;32m   1835\u001b[0m \n\u001b[1;32m   (...)\u001b[0m\n\u001b[0;32m   1931\u001b[0m \u001b[38;5;124;03m       Signal Processing, vol. 26(1), pp. 43--49, 1978.\u001b[39;00m\n\u001b[0;32m   1932\u001b[0m \u001b[38;5;124;03m\"\"\"\u001b[39;00m  \u001b[38;5;66;03m# noqa: E501\u001b[39;00m\n\u001b[0;32m   1933\u001b[0m be \u001b[38;5;241m=\u001b[39m instantiate_backend(be, dataset1, dataset2)\n\u001b[1;32m-> 1934\u001b[0m \u001b[38;5;28;01mreturn\u001b[39;00m \u001b[43m_cdist_generic\u001b[49m\u001b[43m(\u001b[49m\n\u001b[0;32m   1935\u001b[0m \u001b[43m    \u001b[49m\u001b[43mdist_fun\u001b[49m\u001b[38;5;241;43m=\u001b[39;49m\u001b[43mdtw\u001b[49m\u001b[43m,\u001b[49m\n\u001b[0;32m   1936\u001b[0m \u001b[43m    \u001b[49m\u001b[43mdataset1\u001b[49m\u001b[38;5;241;43m=\u001b[39;49m\u001b[43mdataset1\u001b[49m\u001b[43m,\u001b[49m\n\u001b[0;32m   1937\u001b[0m \u001b[43m    \u001b[49m\u001b[43mdataset2\u001b[49m\u001b[38;5;241;43m=\u001b[39;49m\u001b[43mdataset2\u001b[49m\u001b[43m,\u001b[49m\n\u001b[0;32m   1938\u001b[0m \u001b[43m    \u001b[49m\u001b[43mn_jobs\u001b[49m\u001b[38;5;241;43m=\u001b[39;49m\u001b[43mn_jobs\u001b[49m\u001b[43m,\u001b[49m\n\u001b[0;32m   1939\u001b[0m \u001b[43m    \u001b[49m\u001b[43mverbose\u001b[49m\u001b[38;5;241;43m=\u001b[39;49m\u001b[43mverbose\u001b[49m\u001b[43m,\u001b[49m\n\u001b[0;32m   1940\u001b[0m \u001b[43m    \u001b[49m\u001b[43mcompute_diagonal\u001b[49m\u001b[38;5;241;43m=\u001b[39;49m\u001b[38;5;28;43;01mFalse\u001b[39;49;00m\u001b[43m,\u001b[49m\n\u001b[0;32m   1941\u001b[0m \u001b[43m    \u001b[49m\u001b[43mglobal_constraint\u001b[49m\u001b[38;5;241;43m=\u001b[39;49m\u001b[43mglobal_constraint\u001b[49m\u001b[43m,\u001b[49m\n\u001b[0;32m   1942\u001b[0m \u001b[43m    \u001b[49m\u001b[43msakoe_chiba_radius\u001b[49m\u001b[38;5;241;43m=\u001b[39;49m\u001b[43msakoe_chiba_radius\u001b[49m\u001b[43m,\u001b[49m\n\u001b[0;32m   1943\u001b[0m \u001b[43m    \u001b[49m\u001b[43mitakura_max_slope\u001b[49m\u001b[38;5;241;43m=\u001b[39;49m\u001b[43mitakura_max_slope\u001b[49m\u001b[43m,\u001b[49m\n\u001b[0;32m   1944\u001b[0m \u001b[43m    \u001b[49m\u001b[43mbe\u001b[49m\u001b[38;5;241;43m=\u001b[39;49m\u001b[43mbe\u001b[49m\u001b[43m,\u001b[49m\n\u001b[0;32m   1945\u001b[0m \u001b[43m\u001b[49m\u001b[43m)\u001b[49m\n",
      "File \u001b[1;32mc:\\PIBIC POCO\\venv\\Lib\\site-packages\\tslearn\\metrics\\utils.py:88\u001b[0m, in \u001b[0;36m_cdist_generic\u001b[1;34m(dist_fun, dataset1, dataset2, n_jobs, verbose, compute_diagonal, dtype, be, *args, **kwargs)\u001b[0m\n\u001b[0;32m     82\u001b[0m matrix \u001b[38;5;241m=\u001b[39m be\u001b[38;5;241m.\u001b[39mzeros((\u001b[38;5;28mlen\u001b[39m(dataset1), \u001b[38;5;28mlen\u001b[39m(dataset1)))\n\u001b[0;32m     83\u001b[0m indices \u001b[38;5;241m=\u001b[39m be\u001b[38;5;241m.\u001b[39mtriu_indices(\n\u001b[0;32m     84\u001b[0m     \u001b[38;5;28mlen\u001b[39m(dataset1), k\u001b[38;5;241m=\u001b[39m\u001b[38;5;241m0\u001b[39m \u001b[38;5;28;01mif\u001b[39;00m compute_diagonal \u001b[38;5;28;01melse\u001b[39;00m \u001b[38;5;241m1\u001b[39m, m\u001b[38;5;241m=\u001b[39m\u001b[38;5;28mlen\u001b[39m(dataset1)\n\u001b[0;32m     85\u001b[0m )\n\u001b[0;32m     87\u001b[0m matrix[indices] \u001b[38;5;241m=\u001b[39m be\u001b[38;5;241m.\u001b[39marray(\n\u001b[1;32m---> 88\u001b[0m     \u001b[43mParallel\u001b[49m\u001b[43m(\u001b[49m\u001b[43mn_jobs\u001b[49m\u001b[38;5;241;43m=\u001b[39;49m\u001b[43mn_jobs\u001b[49m\u001b[43m,\u001b[49m\u001b[43m \u001b[49m\u001b[43mprefer\u001b[49m\u001b[38;5;241;43m=\u001b[39;49m\u001b[38;5;124;43m\"\u001b[39;49m\u001b[38;5;124;43mthreads\u001b[39;49m\u001b[38;5;124;43m\"\u001b[39;49m\u001b[43m,\u001b[49m\u001b[43m \u001b[49m\u001b[43mverbose\u001b[49m\u001b[38;5;241;43m=\u001b[39;49m\u001b[43mverbose\u001b[49m\u001b[43m)\u001b[49m\u001b[43m(\u001b[49m\n\u001b[0;32m     89\u001b[0m \u001b[43m        \u001b[49m\u001b[43mdelayed\u001b[49m\u001b[43m(\u001b[49m\u001b[43mdist_fun\u001b[49m\u001b[43m)\u001b[49m\u001b[43m(\u001b[49m\u001b[43mdataset1\u001b[49m\u001b[43m[\u001b[49m\u001b[43mi\u001b[49m\u001b[43m]\u001b[49m\u001b[43m,\u001b[49m\u001b[43m \u001b[49m\u001b[43mdataset1\u001b[49m\u001b[43m[\u001b[49m\u001b[43mj\u001b[49m\u001b[43m]\u001b[49m\u001b[43m,\u001b[49m\u001b[43m \u001b[49m\u001b[38;5;241;43m*\u001b[39;49m\u001b[43margs\u001b[49m\u001b[43m,\u001b[49m\u001b[43m \u001b[49m\u001b[38;5;241;43m*\u001b[39;49m\u001b[38;5;241;43m*\u001b[39;49m\u001b[43mkwargs\u001b[49m\u001b[43m)\u001b[49m\n\u001b[0;32m     90\u001b[0m \u001b[43m        \u001b[49m\u001b[38;5;28;43;01mfor\u001b[39;49;00m\u001b[43m \u001b[49m\u001b[43mi\u001b[49m\u001b[43m \u001b[49m\u001b[38;5;129;43;01min\u001b[39;49;00m\u001b[43m \u001b[49m\u001b[38;5;28;43mrange\u001b[39;49m\u001b[43m(\u001b[49m\u001b[38;5;28;43mlen\u001b[39;49m\u001b[43m(\u001b[49m\u001b[43mdataset1\u001b[49m\u001b[43m)\u001b[49m\u001b[43m)\u001b[49m\n\u001b[0;32m     91\u001b[0m \u001b[43m        \u001b[49m\u001b[38;5;28;43;01mfor\u001b[39;49;00m\u001b[43m \u001b[49m\u001b[43mj\u001b[49m\u001b[43m \u001b[49m\u001b[38;5;129;43;01min\u001b[39;49;00m\u001b[43m \u001b[49m\u001b[38;5;28;43mrange\u001b[39;49m\u001b[43m(\u001b[49m\u001b[43mi\u001b[49m\u001b[43m \u001b[49m\u001b[38;5;28;43;01mif\u001b[39;49;00m\u001b[43m \u001b[49m\u001b[43mcompute_diagonal\u001b[49m\u001b[43m \u001b[49m\u001b[38;5;28;43;01melse\u001b[39;49;00m\u001b[43m \u001b[49m\u001b[43mi\u001b[49m\u001b[43m \u001b[49m\u001b[38;5;241;43m+\u001b[39;49m\u001b[43m \u001b[49m\u001b[38;5;241;43m1\u001b[39;49m\u001b[43m,\u001b[49m\u001b[43m \u001b[49m\u001b[38;5;28;43mlen\u001b[39;49m\u001b[43m(\u001b[49m\u001b[43mdataset1\u001b[49m\u001b[43m)\u001b[49m\u001b[43m)\u001b[49m\n\u001b[0;32m     92\u001b[0m \u001b[43m    \u001b[49m\u001b[43m)\u001b[49m\n\u001b[0;32m     93\u001b[0m )\n\u001b[0;32m     95\u001b[0m indices \u001b[38;5;241m=\u001b[39m be\u001b[38;5;241m.\u001b[39mtril_indices(\u001b[38;5;28mlen\u001b[39m(dataset1), k\u001b[38;5;241m=\u001b[39m\u001b[38;5;241m-\u001b[39m\u001b[38;5;241m1\u001b[39m, m\u001b[38;5;241m=\u001b[39m\u001b[38;5;28mlen\u001b[39m(dataset1))\n\u001b[0;32m     96\u001b[0m matrix[indices] \u001b[38;5;241m=\u001b[39m matrix\u001b[38;5;241m.\u001b[39mT[indices]\n",
      "File \u001b[1;32mc:\\PIBIC POCO\\venv\\Lib\\site-packages\\joblib\\parallel.py:2007\u001b[0m, in \u001b[0;36mParallel.__call__\u001b[1;34m(self, iterable)\u001b[0m\n\u001b[0;32m   2001\u001b[0m \u001b[38;5;66;03m# The first item from the output is blank, but it makes the interpreter\u001b[39;00m\n\u001b[0;32m   2002\u001b[0m \u001b[38;5;66;03m# progress until it enters the Try/Except block of the generator and\u001b[39;00m\n\u001b[0;32m   2003\u001b[0m \u001b[38;5;66;03m# reaches the first `yield` statement. This starts the asynchronous\u001b[39;00m\n\u001b[0;32m   2004\u001b[0m \u001b[38;5;66;03m# dispatch of the tasks to the workers.\u001b[39;00m\n\u001b[0;32m   2005\u001b[0m \u001b[38;5;28mnext\u001b[39m(output)\n\u001b[1;32m-> 2007\u001b[0m \u001b[38;5;28;01mreturn\u001b[39;00m output \u001b[38;5;28;01mif\u001b[39;00m \u001b[38;5;28mself\u001b[39m\u001b[38;5;241m.\u001b[39mreturn_generator \u001b[38;5;28;01melse\u001b[39;00m \u001b[38;5;28;43mlist\u001b[39;49m\u001b[43m(\u001b[49m\u001b[43moutput\u001b[49m\u001b[43m)\u001b[49m\n",
      "File \u001b[1;32mc:\\PIBIC POCO\\venv\\Lib\\site-packages\\joblib\\parallel.py:1650\u001b[0m, in \u001b[0;36mParallel._get_outputs\u001b[1;34m(self, iterator, pre_dispatch)\u001b[0m\n\u001b[0;32m   1647\u001b[0m     \u001b[38;5;28;01myield\u001b[39;00m\n\u001b[0;32m   1649\u001b[0m     \u001b[38;5;28;01mwith\u001b[39;00m \u001b[38;5;28mself\u001b[39m\u001b[38;5;241m.\u001b[39m_backend\u001b[38;5;241m.\u001b[39mretrieval_context():\n\u001b[1;32m-> 1650\u001b[0m         \u001b[38;5;28;01myield from\u001b[39;00m \u001b[38;5;28mself\u001b[39m\u001b[38;5;241m.\u001b[39m_retrieve()\n\u001b[0;32m   1652\u001b[0m \u001b[38;5;28;01mexcept\u001b[39;00m \u001b[38;5;167;01mGeneratorExit\u001b[39;00m:\n\u001b[0;32m   1653\u001b[0m     \u001b[38;5;66;03m# The generator has been garbage collected before being fully\u001b[39;00m\n\u001b[0;32m   1654\u001b[0m     \u001b[38;5;66;03m# consumed. This aborts the remaining tasks if possible and warn\u001b[39;00m\n\u001b[0;32m   1655\u001b[0m     \u001b[38;5;66;03m# the user if necessary.\u001b[39;00m\n\u001b[0;32m   1656\u001b[0m     \u001b[38;5;28mself\u001b[39m\u001b[38;5;241m.\u001b[39m_exception \u001b[38;5;241m=\u001b[39m \u001b[38;5;28;01mTrue\u001b[39;00m\n",
      "File \u001b[1;32mc:\\PIBIC POCO\\venv\\Lib\\site-packages\\joblib\\parallel.py:1762\u001b[0m, in \u001b[0;36mParallel._retrieve\u001b[1;34m(self)\u001b[0m\n\u001b[0;32m   1757\u001b[0m \u001b[38;5;66;03m# If the next job is not ready for retrieval yet, we just wait for\u001b[39;00m\n\u001b[0;32m   1758\u001b[0m \u001b[38;5;66;03m# async callbacks to progress.\u001b[39;00m\n\u001b[0;32m   1759\u001b[0m \u001b[38;5;28;01mif\u001b[39;00m ((\u001b[38;5;28mlen\u001b[39m(\u001b[38;5;28mself\u001b[39m\u001b[38;5;241m.\u001b[39m_jobs) \u001b[38;5;241m==\u001b[39m \u001b[38;5;241m0\u001b[39m) \u001b[38;5;129;01mor\u001b[39;00m\n\u001b[0;32m   1760\u001b[0m     (\u001b[38;5;28mself\u001b[39m\u001b[38;5;241m.\u001b[39m_jobs[\u001b[38;5;241m0\u001b[39m]\u001b[38;5;241m.\u001b[39mget_status(\n\u001b[0;32m   1761\u001b[0m         timeout\u001b[38;5;241m=\u001b[39m\u001b[38;5;28mself\u001b[39m\u001b[38;5;241m.\u001b[39mtimeout) \u001b[38;5;241m==\u001b[39m TASK_PENDING)):\n\u001b[1;32m-> 1762\u001b[0m     \u001b[43mtime\u001b[49m\u001b[38;5;241;43m.\u001b[39;49m\u001b[43msleep\u001b[49m\u001b[43m(\u001b[49m\u001b[38;5;241;43m0.01\u001b[39;49m\u001b[43m)\u001b[49m\n\u001b[0;32m   1763\u001b[0m     \u001b[38;5;28;01mcontinue\u001b[39;00m\n\u001b[0;32m   1765\u001b[0m \u001b[38;5;66;03m# We need to be careful: the job list can be filling up as\u001b[39;00m\n\u001b[0;32m   1766\u001b[0m \u001b[38;5;66;03m# we empty it and Python list are not thread-safe by\u001b[39;00m\n\u001b[0;32m   1767\u001b[0m \u001b[38;5;66;03m# default hence the use of the lock\u001b[39;00m\n",
      "\u001b[1;31mKeyboardInterrupt\u001b[0m: "
     ]
    }
   ],
   "source": [
    "distance_matrix_all = calculate_dtw(segundo_df_time_s_entrada, n_jobs=8)\n",
    "np.save('mdtw_all.npy', distance_matrix_all)\n",
    "distance_matrix_all"
   ]
  },
  {
   "cell_type": "markdown",
   "id": "3d267d5f",
   "metadata": {},
   "source": [
    "Com 16 núcleos demorou 47min pra rodar. matriz está salva em .npy"
   ]
  },
  {
   "cell_type": "code",
   "execution_count": 84,
   "id": "1934364e",
   "metadata": {},
   "outputs": [],
   "source": [
    "# Saving matrices\n",
    "\n",
    "np.save('mdtw0.npy', distance_matrix_cambios)\n",
    "np.save('mdtw1.npy', distance_matrix1)\n",
    "np.save('mdtw3.npy', distance_matrix3)\n",
    "np.save('mdtw5.npy', distance_matrix5)\n",
    "np.save('mdtw8.npy', distance_matrix8)\n",
    "np.save('mdtw10.npy', distance_matrix10)\n",
    "np.save('mdtw15.npy', distance_matrix15)"
   ]
  },
  {
   "cell_type": "markdown",
   "id": "478ad61d",
   "metadata": {},
   "source": [
    "### Começando análise de clusters com dbscan"
   ]
  },
  {
   "cell_type": "code",
   "execution_count": 75,
   "id": "e3425b84",
   "metadata": {},
   "outputs": [
    {
     "name": "stdout",
     "output_type": "stream",
     "text": [
      "labels 100\n",
      "[ 0  0  0  0  0  0  0  0  0  0  0  0  0  0  0  0  0  0  0  0  0  0  0  0\n",
      "  0  0  0  0  0  0  0  1  1  1  1  1  1  1  1  1  1  1  1  1  1  1  1  1\n",
      "  1  2  2  2  2  2  2  2  3  3  3  3  3  3  3  3  3  4  4  4  4  4 -1  5\n",
      "  5  5  5  5  5  5  6  6  6  6  6  6  7  7  7  7  7  7  7  7  7  8  8  8\n",
      "  8  8 -1 -1]\n",
      "Número de clusters encontrados: 9\n",
      "Número de pontos de ruído: 3\n",
      "Distribuição dos clusters: [ 3 31 18  7  9  5  7  6  9  5]\n"
     ]
    }
   ],
   "source": [
    "dbscan_object = DBSCAN(\n",
    "    eps=10**9,\n",
    "    metric=\"precomputed\",\n",
    "    min_samples=3\n",
    ")\n",
    "\n",
    "labels1 = dbscan_object.fit_predict(distance_matrix1)\n",
    "print(\"labels 100\")\n",
    "print(labels1)\n",
    "\n",
    "# Analisando resultados\n",
    "n_clusters = len(set(labels1)) - (1 if -1 in labels1 else 0)\n",
    "n_noise = list(labels1).count(-1)\n",
    "print(f\"Número de clusters encontrados: {n_clusters}\")\n",
    "print(f\"Número de pontos de ruído: {n_noise}\")\n",
    "print(f\"Distribuição dos clusters: {np.bincount(labels1 + 1)}\")"
   ]
  },
  {
   "cell_type": "code",
   "execution_count": 78,
   "id": "a1d49812",
   "metadata": {},
   "outputs": [
    {
     "name": "stdout",
     "output_type": "stream",
     "text": [
      "labels 300\n",
      "[ 0  0  0  0  0  0  0  0  0  0  0  0  0  0  0  0  0  0  0  0  0  0  0  0\n",
      "  0  0  0  0  0  0  0  1  1  1  1  1  1  1  1  1  1  1  1  1  1  1  1  1\n",
      "  1  2  2  2  2  2  2  2  3  3  3  3  3  3  3  3  3  4  4  4  4  4 -1  5\n",
      "  5  5  5  5  5  5  6  6  6  6  6  6  7  7  7  7  7  7  7  7  7  8  8  8\n",
      "  8  8  9  9  9  9 10 10 10 -1 11 11 11 11 11 -1 12 12 12 12 12 12 -1 -1\n",
      " -1 13 13 13 13 14 14 14 14 14 14 14 14 15 15 15 15 15 15 15 15 15 15 15\n",
      " 15 15 15 15 15 15 15 16 16 16 16 16 -1 -1 17 17 17 17 17 18 18 18 18 19\n",
      " 19 19 -1 -1 -1 -1 -1 -1 20 20 20 -1 -1 -1 -1 -1 -1 -1 -1 -1 -1 -1 -1 -1\n",
      " -1 -1 -1 -1 -1 -1 -1 -1 -1 -1 -1 -1 -1 -1 -1 -1 -1 -1 -1 -1 -1 -1 -1 -1\n",
      " -1 -1 -1 -1 -1 -1 -1 -1 -1 -1 -1 -1 -1 -1 -1 -1 -1 -1 -1 -1 -1 -1 -1 -1\n",
      " -1 -1 -1 -1 -1 -1 -1 -1 -1 -1 -1 -1 21 21 21 -1 -1 -1 -1 -1 -1 -1 -1 -1\n",
      " -1 -1 -1 -1 -1 -1 -1 -1 -1 -1 -1 -1 -1 -1 -1 -1 -1 -1 -1 -1 -1 -1 -1 22\n",
      " 22 22 -1 -1 -1 -1 -1 -1 -1 -1 -1 -1]\n",
      "Número de clusters encontrados: 23\n",
      "Número de pontos de ruído: 129\n",
      "Distribuição dos clusters: [129  31  18   7   9   5   7   6   9   5   4   3   5   6   4   8  18   5\n",
      "   5   4   3   3   3   3]\n"
     ]
    }
   ],
   "source": [
    "dbscan_object = DBSCAN(\n",
    "    eps=10**9 ,\n",
    "    metric=\"precomputed\",\n",
    "    min_samples=3\n",
    ")\n",
    "\n",
    "labels3 = dbscan_object.fit_predict(distance_matrix3)\n",
    "print(\"labels 300\")\n",
    "print(labels3)\n",
    "\n",
    "# Analisando resultados\n",
    "n_clusters = len(set(labels3)) - (1 if -1 in labels3 else 0)\n",
    "n_noise = list(labels3).count(-1)\n",
    "print(f\"Número de clusters encontrados: {n_clusters}\")\n",
    "print(f\"Número de pontos de ruído: {n_noise}\")\n",
    "print(f\"Distribuição dos clusters: {np.bincount(labels3 + 1)}\")"
   ]
  },
  {
   "cell_type": "code",
   "execution_count": 80,
   "id": "47b61a4d",
   "metadata": {},
   "outputs": [
    {
     "name": "stdout",
     "output_type": "stream",
     "text": [
      "labels 500\n",
      "[ 0  0  0  0  0  0  0  0  0  0  0  0  0  0  0  0  0  0  0  0  0  0  0  0\n",
      "  0  0  0  0  0  0  0  0  0  0  0  0  0  0  0  0  0  0  0  0  0  0  0  0\n",
      "  0  0  0  0  0  0  0  0  0  0  0  0  0  0  0  0  0  0  0  0  0  0  0  0\n",
      "  0  0  0  0  0  0  0  0  0  0  0  0  0  0  0  0  0  0  0  0  0  0  0  0\n",
      "  0  0  0  0  0  0  0  0  0  0  0  0  0  0  0  0  0  0  0  0  0  0  0  0\n",
      "  0  0  0  0  0  0  0  0  0  0  0  0  0  0  0  0  0  0  0  0  0  0  0  0\n",
      "  0  0  0  0  0  0  0  0  0  0  0  0  0  0  0  0  0  0  0  0  0  0  0  0\n",
      "  0  0  0  0  0  0  0  0  0  0  0  1  1  1  1  1  1  2  2  2  3  3  3  3\n",
      "  3  3  3  3  3  3  3  3  3  4  4  4  5  5  5  6  6  6  6  6  6 -1 -1 -1\n",
      " -1 -1  7  7  7  7  7  7  7  7  7  7  7  7  8  8  8  8  8  8  8 -1 -1  9\n",
      "  9  9  9 10 10 10 10 10 10 11 11 11 11 11 11 11 11 11 11 -1 12 12 12 12\n",
      " 12 12 12 12 12 12 12 12 12 12 -1 -1 -1 -1 13 13 13 13 13 14 14 14 14 14\n",
      " 14 14 14 14 14 14 -1 15 15 15 15 -1 16 16 16 16 16 16 16 16 16 16 17 17\n",
      " 17 18 18 18 18 18 18 18 18 18 19 19 19 19 20 20 20 -1 -1 21 21 21 -1 -1\n",
      " 22 22 22 22 22 23 23 23 23 23 23 23 23 23 23 24 24 24 24 25 25 25 25 25\n",
      " 25 25 25 26 26 26 26 26 -1 -1 27 27 27 27 27 28 28 28 28 28 28 28 28 29\n",
      " 29 29 29 29 29 29 29 29 29 29 29 29 29 29 29 30 30 30 30 30 30 31 31 31\n",
      " 31 31 31 31 31 32 32 32 33 33 33 33 33 33 33 -1 -1 -1 -1 34 34 34 34 34\n",
      " -1 -1 35 35 35 36 36 36 36 -1 37 37 37 37 37 37 37 37 37 37 37 37 37 37\n",
      " 37 37 37 37 37 37 38 38 38 38 38 38 38 38 38 39 39 39 39 39 40 40 40 41\n",
      " 41 41 41 41 41 42 42 42 42 42 42 42 42 42 42 42 42 42 42 -1]\n",
      "Número de clusters encontrados: 43\n",
      "Número de pontos de ruído: 28\n",
      "Distribuição dos clusters: [ 28 179   6   3  13   3   3   6  12   7   4   6  10  14   5  11   4  10\n",
      "   3   9   4   3   3   5  10   4   8   5   5   8  16   6   8   3   7   5\n",
      "   3   4  20   9   5   3   6  14]\n"
     ]
    }
   ],
   "source": [
    "dbscan_object = DBSCAN(\n",
    "    eps=10**10,\n",
    "    metric=\"precomputed\",\n",
    "    min_samples=3\n",
    ")\n",
    "\n",
    "labels5 = dbscan_object.fit_predict(distance_matrix5)\n",
    "print(\"labels 500\")\n",
    "print(labels5)\n",
    "\n",
    "# Analisando resultados\n",
    "n_clusters = len(set(labels5)) - (1 if -1 in labels5 else 0)\n",
    "n_noise = list(labels5).count(-1)\n",
    "print(f\"Número de clusters encontrados: {n_clusters}\")\n",
    "print(f\"Número de pontos de ruído: {n_noise}\")\n",
    "print(f\"Distribuição dos clusters: {np.bincount(labels5 + 1)}\")"
   ]
  },
  {
   "cell_type": "code",
   "execution_count": 85,
   "id": "a2b0d813",
   "metadata": {},
   "outputs": [
    {
     "name": "stdout",
     "output_type": "stream",
     "text": [
      "Número de clusters encontrados: 84\n",
      "Número de pontos de ruído: 47\n",
      "Distribuição dos clusters: [ 47 179   6   3  13   3   3   6  12   7   4   6  10  14   5  11   4  10\n",
      "   3   9   4   3   3   5  10   4   8   5   5   8  16   6   8   3   7   5\n",
      "   3   4  20   9   5   3   6  14   8  10   5  11   3   5   6  15  15   9\n",
      "   5  11   3   4   4   8   3   5   3   4   3   7   6  10   6   5  12  13\n",
      "   4   3   4   3   4  12  11   7   5   3  15   3   8]\n"
     ]
    }
   ],
   "source": [
    "dbscan_object = DBSCAN(\n",
    "    eps=10**10,\n",
    "    metric=\"precomputed\",\n",
    "    min_samples=3\n",
    ")\n",
    "\n",
    "labels8 = dbscan_object.fit_predict(distance_matrix8)\n",
    "# print(\"labels 800\")\n",
    "# print(labels8)\n",
    "\n",
    "# Analisando resultados\n",
    "n_clusters = len(set(labels8)) - (1 if -1 in labels8 else 0)\n",
    "n_noise = list(labels8).count(-1)\n",
    "print(f\"Número de clusters encontrados: {n_clusters}\")\n",
    "print(f\"Número de pontos de ruído: {n_noise}\")\n",
    "print(f\"Distribuição dos clusters: {np.bincount(labels8 + 1)}\")"
   ]
  },
  {
   "cell_type": "markdown",
   "id": "9606f208",
   "metadata": {},
   "source": [
    "### Código antigo pra criação das series temporais:"
   ]
  },
  {
   "cell_type": "code",
   "execution_count": 12,
   "id": "9ef47406",
   "metadata": {},
   "outputs": [
    {
     "name": "stdout",
     "output_type": "stream",
     "text": [
      "[152.45919999999998, 538.5825, 347.97429999999997, 21.822499999999994, 21.270899999999997, 254.80329999999998, 81.37809999999999, 123.73129999999995, 289.6252, 16.808899999999994, 301.00509999999997, 18.2039, 1183.2912000000003, 27.2764, 35.26709999999999, 76.86269999999999, 44.59550000000001, 16.7205, 21.075099999999996, 38.833899999999986, 270.8977, 37.1669, 388.04470000000003, 141.5635, 991.6330999999997, 22.3045, 100.72540000000002, 193.4346, 18.935899999999997, 48.7244, 50.9437, 95.4601, 668.5142000000001, 46.7027, 234.31429999999995, 171.46049999999994, 22.718899999999994, 124.07990000000001, 22.688, 55.357499999999995, 326.689, 310.5446999999999, 42.89609999999998, 127.84089999999999, 20.0395, 228.0576000000001, 210.19989999999996, 23.5489, 20.740899999999996, 245.2287, 127.18260000000005, 504.619, 347.483, 154.3216, 156.67000000000002, 294.945, 148.7288, 194.601, 342.93260000000004, 149.308, 401.9820000000001, 146.7, 1136.9121000000005, 161.1623, 165.12339999999998, 214.08499999999998, 172.14599999999993, 151.19959999999998, 151.978, 141.75499999999997, 201.04500000000002, 148.059, 436.03200000000004, 200.162, 969.558, 177.58100000000002, 189.10709999999997, 290.20430000000005, 148.455, 166.80360000000005, 181.40080000000003, 226.134, 713.9179999999999, 135.6187, 339.54600000000005, 250.79399999999995, 155.218, 76.77300000000001, 145.40429999999998, 108.20199999999998, 232.32349999999997, 394.1382, 104.08699999999999, 176.5326, 152.53859999999997, 340.1689999999999, 273.20199999999994, 156.048, 153.24, 258.215, 251.1844, 310.858, 568.1076, 567.556, 593.947, 567.0938000000001, 522.381, 519.2532, 551.27, 704.7570000000004, 560.798, 1028.3015000000003, 567.3753, 568.5426, 532.087, 546.1202, 567.0064, 566.6472000000001, 568.046, 523.9529999999999, 518.6009999999999, 442.4990000000001, 555.7410000000001, 707.0889999999999, 532.615, 549.0137, 635.3075000000001, 556.304, 539.0844999999998, 581.5164000000001, 593.327, 995.5405, 497.39020000000005, 550.2779999999999, 667.609, 569.004, 639.839, 567.9417, 492.668, 833.1731000000001, 637.9552000000001, 482.34099999999995, 469.35060000000004, 566.1702, 675.7139999999999, 742.379, 568.178, 565.2260000000001, 470.367, 618.3293999999997, 356.4916, 355.94, 318.76500000000004, 262.5762, 343.129, 448.5915999999999, 351.478, 533.4710000000001, 351.87, 1035.0209000000002, 363.09350000000006, 360.64840000000004, 398.07300000000004, 353.10139999999996, 351.3896, 354.3914, 352.961, 277.03700000000003, 338.12299999999993, 336.385, 233.84299999999996, 827.7139999999999, 343.50100000000003, 314.67429999999996, 478.8153000000001, 351.9479999999999, 336.80349999999976, 377.78959999999984, 393.279, 580.6852999999999, 342.49019999999996, 449.18799999999993, 414.28599999999994, 357.388, 345.69699999999995, 349.5743, 295.52799999999996, 361.88050000000004, 465.8612000000001, 319.647, 291.69860000000006, 354.7086, 509.35100000000006, 281.583, 358.218, 355.40999999999997, 247.10899999999998, 430.49439999999987, 0.5516, 267.3406, 93.9154, 123.19139999999997, 311.71720000000005, 5.013600000000001, 311.19259999999997, 4.6216, 1217.1061, 13.485499999999998, 29.625600000000002, 59.3654, 60.0256, 5.102, 2.71, 44.29259999999998, 288.08860000000004, 45.0206, 403.5506000000001, 153.9206, 1028.5446, 35.3606, 117.7547, 203.40349999999992, 5.8936, 49.7583, 52.80940000000001, 109.42659999999998, 690.6793, 49.5702, 232.6284, 180.09439999999992, 0.8964, 114.70660000000001, 10.6013, 63.379599999999996, 320.17130000000003, 335.8984, 38.06139999999999, 140.9272, 1.783, 251.49980000000002, 202.6006, 1.7264, 1.0816000000000001, 260.7346, 130.00000000000006, 266.789, 93.3638, 123.41699999999999, 311.16560000000004, 4.462000000000001, 310.489, 4.07, 1214.3481000000002, 12.268499999999998, 29.9724, 59.917, 59.474, 4.5504, 3.0704000000000002, 42.290999999999976, 287.53700000000003, 44.469, 402.9990000000001, 153.369, 1027.993, 34.809, 114.30310000000001, 198.56789999999998, 5.342, 49.206700000000005, 50.80780000000001, 108.32499999999997, 689.5761, 50.109399999999994, 233.18, 177.8879999999999, 1.448, 114.155, 10.0497, 63.312, 319.0681, 334.66519999999997, 38.61299999999999, 140.3756, 1.2314, 250.86500000000004, 202.04899999999998, 2.278, 1.27, 260.183, 129.44840000000005, 262.4456, 370.68600000000004, 349.84459999999996, 262.327, 514.7239999999999, 262.719, 1136.9363, 269.3177, 276.1234, 298.98, 275.3315999999999, 262.2386, 266.33680000000004, 272.65399999999994, 418.54, 305.60799999999995, 397.51000000000005, 223.812, 844.8499999999998, 252.55599999999998, 303.42529999999994, 409.7492999999999, 268.989, 261.95490000000007, 292.03260000000006, 324.44800000000004, 636.8663000000003, 282.57680000000005, 399.71900000000005, 355.523, 268.237, 284.064, 265.3033, 227.12100000000004, 293.6279, 413.04420000000005, 305.40199999999993, 275.8686, 265.55760000000004, 460.26999999999987, 234.95800000000003, 267.411, 268.059, 337.574, 349.36739999999986, 94.0448, 283.89340000000004, 88.9018, 330.6848, 89.2938, 1072.4497000000001, 100.3893, 106.53819999999999, 146.2188, 79.30420000000001, 88.8134, 92.56179999999999, 90.87329999999999, 229.17759999999998, 71.77579999999999, 342.2114000000001, 187.20360000000002, 901.2706999999998, 77.00080000000001, 97.97669999999998, 230.26149999999996, 89.3718, 96.12110000000001, 119.35539999999999, 147.97879999999998, 626.9361, 77.7498, 281.1418, 177.1277999999999, 94.8118, 160.7698, 86.99810000000001, 65.5316, 324.6126, 316.4251, 84.64580000000001, 128.48719999999997, 92.13239999999999, 261.4588, 165.6152, 95.6418, 92.8338, 237.0876, 185.50220000000007, 250.2005999999999, 114.63299999999997, 241.83700000000002, 117.78099999999999, 1253.5826999999997, 130.94449999999995, 139.04439999999997, 126.20999999999997, 142.03059999999994, 129.11339999999996, 123.56139999999998, 147.39499999999992, 324.57599999999996, 103.182, 328.04200000000003, 226.89399999999995, 916.6779999999999, 134.66599999999997, 100.0553, 215.6139, 118.58799999999998, 133.83290000000002, 148.00260000000003, 188.46199999999993, 667.9042999999998, 111.00859999999999, 222.10299999999998, 144.17699999999996, 123.11099999999998, 237.89799999999997, 133.79269999999994, 124.53699999999996, 395.31710000000015, 259.5018, 118.47199999999997, 135.2346, 124.74279999999997, 221.01499999999996, 180.43599999999998, 123.94099999999996, 120.05299999999998, 248.15999999999997, 139.67680000000001, 306.7036, 380.5876000000001, 305.7516, 1201.5197000000007, 303.61350000000004, 291.19000000000005, 314.9676, 272.4262, 306.6152, 308.1729, 284.8686, 355.6786, 276.47939999999994, 313.66040000000004, 251.29459999999997, 807.6049999999997, 282.3036, 264.0073, 314.6524999999999, 302.61460000000005, 262.594, 297.4022000000001, 294.6305999999999, 635.7149000000002, 266.17540000000014, 282.4846, 259.59460000000007, 312.6116, 372.3446, 297.34990000000005, 285.9396, 494.3215000000001, 416.65379999999993, 285.9886, 246.86200000000005, 311.2783, 326.9786, 255.60060000000001, 310.9596, 309.55559999999997, 313.7986, 307.1850000000001, 303.01500000000004, 5.432, 1215.6861000000001, 19.604499999999998, 34.2064, 64.777, 55.012, 11.912400000000002, 7.9604, 44.49099999999998, 283.075, 40.007, 398.53700000000003, 148.90699999999998, 1017.6189999999999, 30.347, 112.7411, 199.90589999999995, 6.7940000000000005, 44.7447, 55.98960000000001, 109.44299999999998, 688.1641, 44.556599999999996, 226.118, 174.57199999999992, 5.914000000000001, 121.51700000000001, 17.4117, 58.36599999999999, 327.8801, 330.9912, 31.831, 135.9136, 4.868800000000001, 248.28300000000002, 209.411, 6.740000000000001, 5.732000000000001, 255.72100000000003, 124.98640000000005, 297.7069999999999, 1237.1659000000002, 301.9675, 268.5781999999999, 302.3619999999999, 285.7046, 313.0354, 303.9653, 305.07499999999993, 492.15100000000007, 285.17299999999994, 531.9069999999999, 406.88199999999995, 1053.337, 303.49300000000005, 302.0699000000001, 251.36769999999981, 294.75600000000003, 292.6914, 285.8287, 315.42299999999994, 691.8715000000007, 292.44090000000017, 243.1570000000001, 269.6650000000001, 314.83099999999996, 412.81399999999996, 299.7636, 309.231, 575.6357000000002, 311.5451999999999, 310.43799999999993, 292.0836000000001, 306.54959999999994, 261.9110000000001, 345.062, 311.263, 306.73900000000003, 453.28200000000004, 245.61230000000003, 1217.3741, 16.860499999999995, 28.7464, 57.603, 60.8176, 9.1684, 5.5804, 43.150999999999996, 281.39500000000004, 46.398999999999994, 398.9290000000001, 155.299, 1021.4029999999998, 36.739000000000004, 110.78110000000002, 194.2499, 7.272, 50.1367, 51.71580000000001, 103.32499999999997, 682.6121, 45.4914, 225.874, 173.17999999999992, 5.518, 118.773, 14.667699999999998, 64.758, 323.9601, 327.4272, 38.223, 136.3056, 4.365600000000001, 240.233, 206.66699999999997, 6.348, 3.54, 256.113, 119.13040000000007, 1209.4864000000002, 1207.8005000000003, 1266.5311, 1136.5435000000002, 1199.5977000000003, 1213.0214, 1141.3921000000003, 1064.9649000000004, 1193.8269000000003, 1187.3863000000003, 1049.3045000000002, 1034.5758999999998, 1169.4131, 1108.4526, 1219.5231999999996, 1207.4141, 1132.0876000000005, 1208.8307000000004, 1154.2667, 1083.931800000001, 1182.8639000000003, 1158.3747, 1115.8320999999999, 1221.5901, 1238.4011, 1189.2786999999998, 1136.5579, 1173.7747999999997, 1216.2373, 1192.9271, 1095.9145, 1215.0377000000003, 1294.1301, 974.3465, 1217.4581000000003, 1214.5781000000002, 1081.9901000000004, 1230.1191999999994, 25.2137, 70.1605, 63.663500000000006, 14.076899999999997, 12.301800000000002, 43.12269999999999, 293.9825, 49.7067, 410.54830000000004, 157.60229999999999, 1022.9374999999998, 33.7325, 119.57180000000001, 191.57219999999992, 15.9617, 47.95040000000001, 45.51649999999999, 104.00149999999998, 685.0056000000001, 49.1961, 239.35449999999997, 171.0055, 13.690499999999997, 127.1937, 17.4132, 69.8335, 329.65680000000003, 312.8079000000001, 47.66149999999998, 145.6811, 13.116499999999998, 242.40810000000002, 214.41150000000002, 12.8645, 12.2533, 266.5885, 117.95130000000002, 81.5164, 54.1914, 29.326, 27.3948, 51.550399999999996, 290.90540000000004, 46.56739999999999, 397.5514000000001, 167.4194, 1010.9933999999997, 51.77340000000001, 112.83949999999999, 176.40929999999992, 26.737399999999994, 53.140699999999995, 54.15119999999998, 91.47539999999998, 679.7185000000001, 53.6634, 226.2404, 163.89739999999995, 31.418400000000002, 137.5414, 22.6751, 75.42840000000002, 329.3365, 321.59459999999996, 52.180400000000006, 142.619, 28.740999999999996, 229.21640000000002, 220.58539999999996, 30.5944, 29.4424, 262.55340000000007, 116.57780000000004, 90.83520000000003, 56.86540000000001, 62.0754, 103.45899999999999, 274.592, 83.97799999999997, 356.11600000000004, 154.91799999999995, 973.1379999999999, 82.93400000000001, 132.0533, 231.6645, 59.349000000000004, 105.82749999999999, 100.16560000000003, 135.167, 620.0421, 73.44380000000001, 228.09499999999997, 204.9459999999999, 58.863, 115.70400000000001, 65.4027, 122.74499999999999, 321.8681, 372.43820000000005, 96.21, 146.4246, 61.1484, 251.81599999999997, 211.19799999999995, 58.037000000000006, 60.446999999999996, 278.642, 164.71840000000014, 54.9236, 56.4282, 63.113, 268.37760000000003, 51.608399999999996, 383.0752, 167.42959999999997, 967.5116999999999, 44.921600000000005, 88.86010000000002, 184.14890000000005, 53.132, 59.7207, 68.4694, 102.13019999999999, 622.8784999999998, 64.32760000000002, 216.83799999999994, 171.87479999999994, 60.922, 146.72899999999998, 48.706300000000006, 64.768, 317.6255000000001, 296.9065, 66.045, 97.75200000000002, 58.7521, 202.44289999999998, 203.49599999999992, 60.516, 58.023999999999994, 258.0086, 121.71760000000003, 6.8742, 42.95819999999999, 282.9866, 45.6674, 398.4486000000001, 148.8186, 1019.4425999999999, 30.258599999999998, 108.6519, 198.46949999999995, 7.4416, 44.6563, 51.417000000000016, 104.32459999999998, 682.4757, 48.834599999999995, 237.73039999999997, 171.37599999999992, 5.9984, 109.6046, 8.9361, 67.8624, 313.9673, 326.7548, 43.16339999999999, 135.8252, 4.9572, 249.60660000000004, 197.4986, 5.1724, 5.8204, 255.63260000000002, 125.10560000000005, 39.92119999999999, 285.4912, 43.7632, 402.70580000000007, 154.8794, 1025.5911999999996, 35.03620000000001, 114.5475, 194.83249999999995, 6.8524, 47.1961, 49.7496, 105.44919999999996, 689.4274999999999, 48.759, 232.2184, 173.2858999999999, 3.6064, 116.47879999999999, 10.5977, 61.998200000000004, 320.07210000000003, 328.2409, 37.345, 140.5796, 3.4356, 242.63040000000004, 202.597, 4.4364, 2.0404, 259.3532, 122.05640000000004, 291.81600000000003, 32.73400000000001, 399.87700000000007, 159.064, 1013.9249999999997, 48.94699999999999, 109.0181, 195.65049999999982, 45.94099999999998, 42.94409999999999, 56.3088, 111.74099999999996, 657.7361, 75.57230000000001, 214.243, 166.8889999999999, 45.18899999999997, 131.56400000000002, 43.04359999999999, 69.25299999999999, 314.60709999999995, 292.8562, 50.03799999999999, 134.5646, 40.80169999999998, 238.61999999999998, 213.19400000000002, 44.36299999999998, 43.930999999999976, 263.918, 118.69740000000004, 261.051, 350.8280000000001, 225.762, 912.9569999999995, 264.354, 266.0473, 371.89509999999984, 280.078, 275.0067, 305.5525999999999, 309.61, 732.9034999999999, 290.07319999999993, 383.6930000000001, 355.7469999999999, 288.985, 347.036, 280.0513, 270.61899999999997, 524.4131, 398.77620000000013, 274.796, 230.28840000000002, 286.3056, 412.94999999999993, 350.244, 289.815, 286.10699999999997, 210.25, 349.3904, 371.64, 152.822, 970.001, 47.554, 85.6267, 188.5336999999999, 40.074999999999996, 50.54930000000001, 71.61659999999998, 97.89999999999999, 653.0541, 44.693799999999996, 205.009, 159.73499999999996, 45.917, 153.77599999999998, 49.645300000000006, 49.959, 322.82009999999997, 296.59419999999994, 36.71799999999999, 109.7586, 43.919399999999996, 231.01699999999997, 194.09999999999997, 46.345, 43.939, 227.35599999999997, 127.65140000000007, 329.50000000000006, 657.3199999999999, 389.2100000000001, 364.85330000000005, 454.24130000000014, 397.65700000000004, 386.65189999999984, 413.6195999999999, 407.804, 651.4254999999999, 393.8633999999999, 390.15099999999984, 460.88499999999993, 404.44700000000006, 435.12600000000003, 399.5133000000001, 342.58700000000005, 480.5291, 472.68620000000016, 366.7060000000001, 325.8696, 401.7676, 488.45599999999985, 303.4560000000001, 405.2770000000001, 402.46900000000005, 188.56400000000002, 441.57739999999995, 849.7629999999998, 136.95600000000002, 137.27409999999998, 286.2157, 149.65899999999996, 144.03970000000007, 179.41060000000002, 215.42000000000002, 623.5637, 143.815, 247.94700000000003, 254.07299999999992, 154.81699999999998, 188.004, 149.8833, 99.421, 326.53290000000004, 367.53020000000004, 128.04, 144.5104, 152.1376, 344.78000000000003, 205.408, 155.64700000000002, 152.839, 155.52200000000002, 238.2754, 991.1499999999999, 966.1192999999998, 1036.7248999999995, 1017.3499999999997, 976.2030999999998, 1016.9994999999996, 1000.3389999999999, 869.6032999999995, 961.1145999999997, 856.9279999999994, 993.9759999999997, 1029.4389999999999, 1021.0519999999999, 1019.6915999999999, 946.0909999999997, 884.1855999999998, 1043.6562, 962.2679999999998, 865.0063999999999, 1024.8992999999998, 1060.5559999999998, 911.7719999999997, 1028.6149999999998, 1026.3829999999998, 817.6579999999998, 1015.6183999999997, 90.61810000000001, 175.7019, 33.167, 46.0805, 58.949600000000004, 98.27899999999998, 653.8391, 48.92659999999999, 244.10299999999998, 152.93599999999998, 36.257, 131.53000000000003, 34.7027, 49.97699999999999, 318.6477, 285.0002, 49.535999999999994, 127.8866, 33.9482, 216.012, 202.176, 35.431, 34.278999999999996, 250.318, 125.96540000000006, 201.11319999999992, 111.8611, 92.76879999999998, 139.23669999999998, 125.10409999999999, 597.9, 116.0999, 213.64139999999998, 188.85709999999992, 118.6511, 205.51009999999997, 107.15339999999999, 108.88709999999999, 333.25980000000004, 293.55060000000003, 121.9901, 97.5099, 115.97169999999998, 240.70450000000005, 182.6231, 117.8251, 116.67309999999999, 272.1893, 183.43530000000004, 195.3299, 162.53439999999992, 172.03640000000004, 165.14679999999996, 678.5732000000003, 176.58200000000008, 304.5321, 165.9129, 205.81389999999996, 291.03929999999997, 188.744, 215.56829999999997, 443.4229999999999, 313.1613, 216.6188999999999, 236.44029999999998, 199.21389999999997, 207.32769999999974, 311.6473000000001, 203.53589999999994, 201.59389999999996, 365.10709999999995, 162.92400000000004, 43.86470000000001, 50.8056, 100.37399999999998, 682.5221, 43.67659999999999, 225.07000000000002, 169.34899999999996, 6.79, 121.04700000000001, 12.9417, 59.117999999999995, 326.7351, 325.4631999999999, 31.721, 135.0336, 5.5944, 240.14400000000003, 208.941, 7.62, 4.812, 254.841, 119.7184000000001, 63.253000000000014, 89.38779999999998, 634.5409999999997, 81.599, 241.43550000000005, 157.2201, 50.65270000000001, 127.05929999999998, 41.85660000000001, 67.40270000000001, 297.7354999999998, 285.79049999999995, 60.78370000000001, 134.31470000000002, 47.89810000000001, 218.12050000000002, 219.32370000000006, 49.828700000000005, 48.676700000000004, 236.57350000000005, 115.31970000000001, 100.33059999999998, 691.9377000000001, 79.60710000000002, 254.9174000000001, 179.95379999999997, 53.70580000000001, 153.16480000000004, 49.5344, 93.82559999999997, 342.93719999999985, 330.59909999999985, 80.3006, 154.29620000000003, 52.87700000000003, 211.96309999999997, 225.9888, 52.87980000000001, 52.25980000000002, 283.7325999999999, 113.23129999999999, 638.9134999999999, 123.01710000000001, 220.97699999999998, 144.09299999999996, 110.32299999999998, 203.796, 98.20099999999998, 133.713, 380.85910000000007, 329.2792, 119.38599999999997, 159.0606, 107.56639999999997, 194.16900000000004, 233.41, 109.49699999999999, 107.44499999999998, 315.858, 117.34700000000004, 642.5576999999998, 696.1043000000003, 635.6079000000001, 692.4741, 571.6710999999998, 679.6944, 648.1126999999999, 662.8422, 702.8117000000001, 654.7330999999998, 593.7045, 689.7946999999999, 731.6349000000001, 525.9095, 690.8201, 690.4960999999998, 560.3271, 678.1816999999999, 221.42439999999996, 151.5221, 50.46659999999999, 159.376, 50.81849999999999, 60.998799999999996, 358.9908999999999, 321.4875999999999, 52.560799999999986, 105.85159999999999, 47.7872, 217.66640000000004, 197.80900000000003, 49.6406, 48.4886, 233.19100000000003, 127.73890000000004, 311.65600000000006, 232.024, 347.635, 218.1783, 220.93599999999998, 406.0008, 306.28819999999996, 228.565, 219.95060000000004, 224.88209999999998, 354.54899999999986, 253.749, 232.858, 227.89, 342.6710000000001, 270.91619999999995, 183.67799999999988, 273.02899999999994, 169.35629999999992, 191.20199999999994, 418.5145, 273.12020000000007, 184.72099999999986, 195.07259999999997, 174.23919999999995, 207.031, 228.27899999999994, 180.3759999999999, 179.2179999999999, 332.2069999999999, 155.98340000000005, 115.607, 11.497699999999998, 64.276, 321.96410000000003, 338.9852, 37.74099999999999, 141.8236, 2.6794, 254.18500000000003, 203.49699999999999, 0.8300000000000001, 1.9780000000000002, 261.63100000000003, 130.8684, 119.10470000000001, 102.103, 237.38849999999996, 401.3802, 152.76799999999997, 218.30460000000002, 114.4074, 344.30199999999996, 250.55599999999998, 116.433, 115.42500000000001, 310.966, 225.9054, 56.9263, 311.1864, 313.4038, 31.3633, 130.3259, 8.8183, 241.01560000000003, 191.99929999999998, 12.3277, 9.519699999999998, 260.56870000000004, 117.59110000000001, 292.1461, 315.28920000000005, 37.499, 108.94959999999999, 62.9052, 260.861, 174.36899999999997, 65.106, 62.298, 208.651, 159.48140000000004, 530.133, 300.2671, 358.1704999999999, 317.57880000000006, 513.4187, 390.9569, 320.3121, 320.7081, 424.5991, 397.197, 314.8042, 278.5648000000001, 333.2743, 342.61319999999995, 309.57720000000006, 336.0392, 333.9552, 418.9142, 317.4726999999999, 105.5666, 35.0616, 248.94599999999994, 195.48199999999994, 38.57099999999999, 35.763, 231.45400000000004, 135.41039999999998, 139.14419999999998, 240.56660000000005, 233.2504, 142.6536, 139.8456, 210.86760000000004, 181.82480000000007, 244.20600000000007, 200.97199999999998, 3.5094, 1.0176, 260.4354, 123.89490000000002, 320.24999999999994, 251.71100000000004, 247.35500000000002, 404.3059999999999, 181.45340000000007, 202.671, 201.51899999999998, 129.882, 270.57300000000004, 1.1520000000000001, 260.805, 130.07040000000003, 259.653, 124.08240000000006, 327.4833999999999]\n"
     ]
    }
   ],
   "source": [
    "from fastdtw import fastdtw\n",
    "from scipy.spatial.distance import euclidean\n",
    "\n",
    "\n",
    "# Usando o df de emps que trocaram de nome ao longo dos 11 anos (55 emps)\n",
    "df_hist_cambios = pd.read_csv(reading_data.historial_cambios_me_epp_solo)\n",
    "emps_suspicious_df = df_hist_cambios[[\"CPF_CNPJ_Rem\"]].rename(columns = {\"CPF_CNPJ_Rem\": \"Empresa\"})\n",
    "emps_suspicious_df['Empresa'] = emps_suspicious_df['Empresa'].astype(str)\n",
    "\n",
    "# Crie uma lista (ou Series) dos IDs das empresas para iterar\n",
    "lista_empresas_suspicious = emps_suspicious_df['Empresa'].unique().tolist()\n",
    "\n",
    "df_time_s_entrada['Empresa'] = df_time_s_entrada['Empresa'].astype(str)\n",
    "\n",
    "df_cambios = segundo_df_time_s_entrada[segundo_df_time_s_entrada['Empresa'].isin(emps_suspicious['Empresa'])]\n",
    "# df_cambios   52 rows × 366 columns\n",
    "\n",
    "\n",
    "distancias = []\n",
    "for i, emp1_id in enumerate(lista_empresas_suspicious):\n",
    "        # Para evitar comparações duplicadas (empA vs empB e empB vs empA) e auto-comparações\n",
    "        for j in range(i + 1, len(lista_empresas_suspicious)):\n",
    "            emp2_id = lista_empresas_suspicious[j]\n",
    "\n",
    "            serie_emp1 = df_time_s_entrada[df_time_s_entrada[\"Empresa\"] == emp1_id][\"Volume_Entrada\"].values\n",
    "            serie_emp2 = df_time_s_entrada[df_time_s_entrada[\"Empresa\"] == emp2_id][\"Volume_Entrada\"].values\n",
    "            serie_emp1 = serie_emp1.reshape(-1, 1)\n",
    "            serie_emp2 = serie_emp2.reshape(-1, 1)\n",
    "            if serie_emp1.shape[0] > 0 and serie_emp2.shape[0] > 0:\n",
    "                # Mantém como arrays NumPy\n",
    "                distance, path = fastdtw(serie_emp1, serie_emp2, dist=euclidean)\n",
    "                distancias.append(distance)\n",
    "\n",
    "print(distancias)"
   ]
  },
  {
   "cell_type": "markdown",
   "id": "33f31c40",
   "metadata": {},
   "source": [
    "Levou mais de 6 minutos pra calcular essa matriz de distâcias 55x55 enquanto com a função cdist levou 2 segundos. Difícil dizer que vale a pena continuar com esse método"
   ]
  },
  {
   "cell_type": "markdown",
   "id": "c6e9c5a7",
   "metadata": {},
   "source": [
    "Também vale observar que a escala dos valores continua muito diferente da calculada com cdist. Investigar o que há de errado"
   ]
  }
 ],
 "metadata": {
  "kernelspec": {
   "display_name": "venv",
   "language": "python",
   "name": "python3"
  },
  "language_info": {
   "codemirror_mode": {
    "name": "ipython",
    "version": 3
   },
   "file_extension": ".py",
   "mimetype": "text/x-python",
   "name": "python",
   "nbconvert_exporter": "python",
   "pygments_lexer": "ipython3",
   "version": "3.12.3"
  }
 },
 "nbformat": 4,
 "nbformat_minor": 5
}
