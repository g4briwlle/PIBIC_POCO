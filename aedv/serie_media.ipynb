{
 "cells": [
  {
   "cell_type": "code",
   "execution_count": 7,
   "metadata": {},
   "outputs": [],
   "source": [
    "import pandas as pd\n",
    "import matplotlib.pyplot as plt\n",
    "import seaborn as sns\n",
    "from statsmodels.tsa.seasonal import seasonal_decompose\n",
    "from valid_time_s import ajusta_df_time_s\n",
    "\n",
    "import numpy as np\n",
    "from tslearn.barycenters import dtw_barycenter_averaging\n",
    "from valid_time_s import df_time_s_entrada, df_time_s_saida\n",
    "\n",
    "from utils import *\n",
    "\n",
    "from pathlib import Path"
   ]
  },
  {
   "cell_type": "code",
   "execution_count": null,
   "metadata": {},
   "outputs": [],
   "source": [
    "# Define datas como o mesmo formato: YYYY-MM-DD\n",
    "def arruma_data(df):\n",
    "    df[\"Data\"] = df[\"Data\"].dt.strftime(r'%Y-%m-%d')\n",
    "    df['Data'] = pd.to_datetime(df['Data'])\n",
    "    return df\n",
    "\n",
    "# Nomes de todas as empresas\n",
    "lista_empresas = list(df_time_s_entrada[\"Empresa\"].unique())\n",
    "\n",
    "df_mensal = arruma_data(df_time_s_entrada) # Agora o df_time_s_entrada ja vem com esse formato\n",
    "\n",
    "# Agrupe por empresa e mês, somando os valores de entrada para cada mês\n",
    "df_mensal = df_time_s_entrada.groupby([df_time_s_entrada['Data'].dt.to_period('M'), 'Empresa'])['Volume_Entrada'].sum().reset_index()\n",
    "\n",
    "# Converta a coluna `Data` de volta para datetime para usar no pivoteamento\n",
    "df_mensal['Data'] = df_mensal['Data'].astype(str)\n",
    "\n",
    "# Pivoteando dataframe.\n",
    "df_pivot = df_mensal.pivot(index='Empresa', columns='Data', values='Volume_Entrada')\n",
    "\n",
    "# Colocando apenas os valore em uma matriz\n",
    "entradas_matriz = df_pivot.values\n",
    "\n",
    "print(df_mensal.head(1000))\n",
    "print(df_pivot)\n",
    "\n",
    "# Fazendo barycenter averaging\n",
    "barycenter = dtw_barycenter_averaging(entradas_matriz)\n",
    "\n",
    "# Plotando\n",
    "plt.plot(barycenter, label=\"Barycenter Averaging\")\n",
    "plt.legend()\n",
    "plt.title(\"DBA Barycenter Averaging de Séries Temporais\")\n",
    "plt.show()\n",
    "\n",
    "\n",
    "nice_print(f\"Olhando empresa: {20825514000193}\")\n",
    "print(\"oi\")\n",
    "print(df_time_s_entrada[df_time_s_entrada[\"Empresa\"] == \"20825514000193\"][\"Volume_Entrada\"])"
   ]
  }
 ],
 "metadata": {
  "kernelspec": {
   "display_name": "venv",
   "language": "python",
   "name": "python3"
  },
  "language_info": {
   "codemirror_mode": {
    "name": "ipython",
    "version": 3
   },
   "file_extension": ".py",
   "mimetype": "text/x-python",
   "name": "python",
   "nbconvert_exporter": "python",
   "pygments_lexer": "ipython3",
   "version": "3.12.3"
  }
 },
 "nbformat": 4,
 "nbformat_minor": 2
}
